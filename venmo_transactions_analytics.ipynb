{
 "cells": [
  {
   "cell_type": "markdown",
   "metadata": {
    "colab_type": "text",
    "id": "Uy6Ynpl_BeJj"
   },
   "source": [
    "# Set Up Spark Environment"
   ]
  },
  {
   "cell_type": "code",
   "execution_count": 1,
   "metadata": {
    "colab": {},
    "colab_type": "code",
    "id": "sjVeldyGAp5z"
   },
   "outputs": [],
   "source": [
    "import os"
   ]
  },
  {
   "cell_type": "code",
   "execution_count": 2,
   "metadata": {
    "colab": {},
    "colab_type": "code",
    "id": "i4FRPO0nuEoa"
   },
   "outputs": [],
   "source": [
    "packages = \"com.crealytics:spark-excel_2.11:0.13.1\"\n",
    "\n",
    "os.environ[\"PYSPARK_SUBMIT_ARGS\"] = (\n",
    "    \"--packages {0} pyspark-shell\".format(packages)\n",
    ")"
   ]
  },
  {
   "cell_type": "code",
   "execution_count": 3,
   "metadata": {
    "colab": {},
    "colab_type": "code",
    "id": "AlOcVNUVASop"
   },
   "outputs": [],
   "source": [
    "# Use a specific Spark Version. In this case 2.3.4\n",
    "import findspark\n",
    "findspark.init('')"
   ]
  },
  {
   "cell_type": "code",
   "execution_count": 4,
   "metadata": {
    "colab": {},
    "colab_type": "code",
    "id": "NZqB98tfHPJU"
   },
   "outputs": [],
   "source": [
    "import pyspark\n",
    "from pyspark.sql import functions as F, SparkSession, Window\n",
    "from pyspark.ml.feature import VectorAssembler"
   ]
  },
  {
   "cell_type": "code",
   "execution_count": 5,
   "metadata": {
    "colab": {},
    "colab_type": "code",
    "id": "uz8PqLKeBq8r"
   },
   "outputs": [],
   "source": [
    "import numpy as np\n",
    "import pandas as pd\n",
    "import matplotlib.pyplot as plt\n",
    "import seaborn as sns\n",
    "import time\n",
    "from datetime import datetime, date, timedelta\n",
    "from dateutil import relativedelta\n",
    "\n",
    "from pyspark.sql import SparkSession, SQLContext, Row, DataFrame\n",
    "from pyspark.sql.types import *\n",
    "from pyspark.sql import functions as F\n",
    "from pyspark.sql.window import Window\n",
    "\n",
    "from pyspark import SparkConf, SparkContext\n",
    "from pyspark.ml.regression import LinearRegression\n",
    "from pyspark.ml.linalg import Vectors\n",
    "from pyspark.ml.feature import VectorAssembler\n",
    "\n",
    "\n",
    "import emoji\n",
    "import regex\n",
    "import re"
   ]
  },
  {
   "cell_type": "code",
   "execution_count": 6,
   "metadata": {
    "colab": {},
    "colab_type": "code",
    "id": "MR4xTqdTCbuE"
   },
   "outputs": [],
   "source": [
    "# Start PyPark Session\n",
    "spark = SparkSession\\\n",
    "        .builder\\\n",
    "        .config(\"spark.driver.memory\", \"15g\") \\\n",
    "        .config(\"spark.driver.maxResultSize\", \"3g\")\\\n",
    "        .appName('HomeWork2')\\\n",
    "        .getOrCreate()"
   ]
  },
  {
   "cell_type": "code",
   "execution_count": 7,
   "metadata": {
    "colab": {},
    "colab_type": "code",
    "id": "dowUWRbDB-Sm",
    "outputId": "140b05bb-248b-4985-e46c-9113dc330367"
   },
   "outputs": [
    {
     "name": "stdout",
     "output_type": "stream",
     "text": [
      "15g\n",
      "3g\n"
     ]
    }
   ],
   "source": [
    "# How much memory do we have?\n",
    "print(spark.conf.get('spark.driver.memory'))\n",
    "print(spark.conf.get('spark.driver.maxResultSize'))"
   ]
  },
  {
   "cell_type": "code",
   "execution_count": 8,
   "metadata": {
    "colab": {},
    "colab_type": "code",
    "id": "CCS3McoMDFn4"
   },
   "outputs": [],
   "source": [
    "spark_context = spark.sparkContext\n",
    "sql_context = SQLContext(spark_context)"
   ]
  },
  {
   "cell_type": "markdown",
   "metadata": {
    "colab_type": "text",
    "id": "Hw7zDaoQDDIx"
   },
   "source": [
    "# Read in the Data"
   ]
  },
  {
   "cell_type": "code",
   "execution_count": 9,
   "metadata": {
    "colab": {},
    "colab_type": "code",
    "id": "eeN_6LI1DFAo"
   },
   "outputs": [],
   "source": [
    "#read in venmo data sample\n",
    "venmo_df = sql_context.read.parquet('VenmoSample.snappy.parquet')\\\n",
    "          .repartition(F.col(\"user1\")).cache()"
   ]
  },
  {
   "cell_type": "code",
   "execution_count": 10,
   "metadata": {
    "colab": {
     "base_uri": "https://localhost:8080/",
     "height": 289
    },
    "colab_type": "code",
    "id": "Fndxc35VDZT1",
    "outputId": "352ecb84-74b0-4cc6-d57f-76c75b34237c"
   },
   "outputs": [
    {
     "name": "stdout",
     "output_type": "stream",
     "text": [
      "+-------+-------+----------------+-------------------+--------------------+-----------+--------------------+\n",
      "|  user1|  user2|transaction_type|           datetime|         description|is_business|            story_id|\n",
      "+-------+-------+----------------+-------------------+--------------------+-----------+--------------------+\n",
      "|3891364|5452142|         payment|2016-01-30 03:02:17|Bdayyy🎉💞🎉 sund...|      false|56ac27b9cd03c9af2...|\n",
      "|4136881|1074970|         payment|2016-06-21 21:36:19|                🍕❤️|      false|5769b35323e064eac...|\n",
      "|1841732|2900826|         payment|2016-06-29 13:13:16|            🍇🍌🍓🍹|      false|5773c96c23e064eac...|\n",
      "|2281658|1429548|         payment|2015-08-07 04:41:17|             🚙✊🏻💦|      false|55c436ed1a624b17e...|\n",
      "| 204908| 234866|         payment|2015-04-05 04:07:43|         Sushi samba|      false|5520b50fe855742e2...|\n",
      "|1029768|1543181|         payment|2016-04-15 06:10:49|              🍸🍸🍸|      false|571085e9cd03c9af2...|\n",
      "| 378749| 385029|         payment|2016-07-14 20:52:07|         Boat refund|      false|5787fb7723e064eac...|\n",
      "| 356543| 815652|         payment|2016-09-06 00:34:58|    Bc we can't stop|      false|57ce0f3223e064eac...|\n",
      "|3809372|2594217|          charge|2016-03-10 15:21:04|    February Comcast|      false|56e190e0cd03c9af2...|\n",
      "|5392766|5750668|         payment|2016-02-07 01:58:35|              🍹🍹🍹|      false|56b6a4cbcd03c9af2...|\n",
      "|1862793|1237260|         payment|2016-02-05 08:20:06|            Stripper|      false|56b45b36cd03c9af2...|\n",
      "|6599514|2431852|         payment|2016-08-08 22:08:47|                   ✈|      false|57a902ef23e064eac...|\n",
      "|1023874|1277439|         payment|2015-05-16 16:35:12|        For the kids|      false|555771c27b9372735...|\n",
      "| 314766| 378530|          charge|2015-01-27 13:41:34|Tahoe food and dr...|      false|54c7958fca134c404...|\n",
      "| 612356| 533306|          charge|2015-02-22 03:45:07|LyftPlus to trous...|      false|54e950c3cd03c9af2...|\n",
      "|7945878|6609110|         payment|2016-02-04 23:16:49|1 x Grade A BROOO...|      false|56b3dbe1cd03c9af2...|\n",
      "|6176516|7245636|         payment|2016-03-30 19:54:20|         🎫 thanks !|      false|56fc2eeccd03c9af2...|\n",
      "|2164220|4721569|         payment|2016-05-20 16:14:19|                   ☕|      false|573f37dbcd03c9af2...|\n",
      "|8752251|5069053|         payment|2016-07-31 19:06:55|              🎉🎉🎉|      false|579e4c4f23e064eac...|\n",
      "| 187647| 487783|         payment|2014-08-07 05:16:39|jerseys  what els...|      false|53e30bb77d0b0354e...|\n",
      "|8276491|4980457|          charge|2016-01-10 01:27:37|Tosh.O for you an...|      false|5691b38acd03c9af2...|\n",
      "| 265366| 266319|          charge|2014-03-24 23:03:21|Barrio oolong the...|      false|5330b9b9d546b8434...|\n",
      "|5907706|2989300|          charge|2016-06-26 15:30:19|     May electricity|      false|576ff50b23e064eac...|\n",
      "|4710631|1445794|          charge|2015-09-01 01:48:20|          💦💸 and ⛽|      false|55e503e4cd03c9af2...|\n",
      "|7016521|5954684|         payment|2016-02-23 00:03:53|                Food|      false|56cba1e9cd03c9af2...|\n",
      "+-------+-------+----------------+-------------------+--------------------+-----------+--------------------+\n",
      "only showing top 25 rows\n",
      "\n"
     ]
    }
   ],
   "source": [
    "venmo_df.show(25)"
   ]
  },
  {
   "cell_type": "code",
   "execution_count": 11,
   "metadata": {
    "colab": {},
    "colab_type": "code",
    "id": "MfpuOq8tDaBz"
   },
   "outputs": [],
   "source": [
    "#read in emoji dictionary\n",
    "emoji_dict = sql_context.read \\\n",
    "                        .option('inferSchema','true') \\\n",
    "                        .option('header','true') \\\n",
    "                        .csv('Venmo_Emoji_Classification_Dictionary.csv')"
   ]
  },
  {
   "cell_type": "code",
   "execution_count": 12,
   "metadata": {
    "colab": {
     "base_uri": "https://localhost:8080/",
     "height": 289
    },
    "colab_type": "code",
    "id": "GgEWIKQ2DkRJ",
    "outputId": "9b46df22-eebd-4939-d9df-1a20ce1694bb",
    "scrolled": false
   },
   "outputs": [
    {
     "name": "stdout",
     "output_type": "stream",
     "text": [
      "+-----+------+----+--------+--------------+------+-------+\n",
      "|Event|Travel|Food|Activity|Transportation|People|Utility|\n",
      "+-----+------+----+--------+--------------+------+-------+\n",
      "| 🇦🇺|    🏔|  🍇|      👾|            🚄|    😀|      ⚡|\n",
      "| 🇫🇷|     ⛰|  🍈|      🕴|            🚅|    😃|     💡|\n",
      "|   🎂|    🌋|  🍉|      🎪|            🚆|    😄|     🔌|\n",
      "|   🛍|    🗻|  🍊|      🎭|            🚇|    😁|     📺|\n",
      "| 🇨🇦|    🏕|  🍋|      🎨|            🚈|    😆|     🔌|\n",
      "| 🇧🇷|    🏖|  🍌|      🎰|            🚉|    😅|      ⚡|\n",
      "|   🐉|    🏜|  🍍|      🚣|            🚊|    🤣|     💡|\n",
      "|   🎅|    🏝|  🍎|      🛀|            🚝|    😂|     💸|\n",
      "| 🇲🇽|    🏞|  🍏|      🎗|            🚞|    🙂|     💦|\n",
      "| 🇨🇳|    🏟|  🍐|      🎟|            🚋|   🙃-|     💧|\n",
      "|   🐰|    🏛|  🍑|      🎫|            🚌|    😉|     📱|\n",
      "|   🎥|    🏗|  🍒|      🎖|            🚍|    😊|     🏢|\n",
      "|   🍂|    🏘|  🍓|      🏆|            🚎|    😇|     🏣|\n",
      "|   👨|    🏙|  🍅|      🏅|            🚏|    🥰|     🔥|\n",
      "|   💪|    🏚|  🍆|       ⚽|            🚐|   😍-|   null|\n",
      "+-----+------+----+--------+--------------+------+-------+\n",
      "only showing top 15 rows\n",
      "\n"
     ]
    }
   ],
   "source": [
    "emoji_dict.show(15)"
   ]
  },
  {
   "cell_type": "code",
   "execution_count": 13,
   "metadata": {
    "colab": {},
    "colab_type": "code",
    "id": "YiDS5WFZDo8f"
   },
   "outputs": [],
   "source": [
    "# Read com Excel File\n",
    "word_dict = spark.read\\\n",
    "    .format(\"com.crealytics.spark.excel\")\\\n",
    "    .option(\"header\", \"true\")\\\n",
    "    .option(\"inferSchema\", \"true\")\\\n",
    "    .load(\"Venmo Word Classification Dictonary BAX-423.xlsx\").drop(\"_c9\")"
   ]
  },
  {
   "cell_type": "code",
   "execution_count": 14,
   "metadata": {
    "colab": {
     "base_uri": "https://localhost:8080/",
     "height": 289
    },
    "colab_type": "code",
    "id": "fznTTS-JDqQ0",
    "outputId": "da93354c-60c5-4ec0-91ff-893fcb23aaad"
   },
   "outputs": [
    {
     "name": "stdout",
     "output_type": "stream",
     "text": [
      "+----------+---------+------------+--------+-------+---------------+-----------+-------+----------------+\n",
      "|   People |    Food |      Event |Activity|Travel |Transportation |   Utility |   Cash|Illegal/Sarcasm |\n",
      "+----------+---------+------------+--------+-------+---------------+-----------+-------+----------------+\n",
      "|    friend|     food|    birthday|    ball|  beach|           lyft|       bill|   atm |       addiction|\n",
      "|friendship|      bbq|   christmas|    boat|  place|           uber|      cable|  bank |            drug|\n",
      "|      baby|     bean|       happy|     bar|     la|            cab|        fee|  cash |           wangs|\n",
      "|       boy|    latte|        bday|    book|  world|            bus|   electric|  money|            weed|\n",
      "|      girl|breakfast|     wedding|    club|  hotel|            car|electricity|   buck|            anal|\n",
      "|      help|   brunch|        xmas|    card|   trip|            gas|   internet| wallet|              bj|\n",
      "|      like|   burger|     holiday|   dance|   vega|           taxi|       rent| monies|         blowjob|\n",
      "|      love|  burrito|         hbd|football|  tahoe|           ride|       wifi|    tip|            boob|\n",
      "|       mom|     cake|   halloween|     fun|    nyc|        rental |    utility| dollar|           booty|\n",
      "|      save|   cheese|thanksgiving|    game|     dc|          train|        tax|payback|            blow|\n",
      "+----------+---------+------------+--------+-------+---------------+-----------+-------+----------------+\n",
      "only showing top 10 rows\n",
      "\n"
     ]
    }
   ],
   "source": [
    "word_dict.show(10)"
   ]
  },
  {
   "cell_type": "code",
   "execution_count": 15,
   "metadata": {
    "colab": {},
    "colab_type": "code",
    "id": "0mj1yX6pylcF"
   },
   "outputs": [],
   "source": [
    "word_dict = word_dict.withColumnRenamed(\"People \",\"People\") \\\n",
    "            .withColumnRenamed(\"Event \",\"Event\")\\\n",
    "            .withColumnRenamed(\"Food \",\"Food\")\\\n",
    "            .withColumnRenamed(\"Travel \",\"Travel\")\\\n",
    "            .withColumnRenamed(\"Transportation \",\"Transportation\")\\\n",
    "            .withColumnRenamed(\"Utility \",\"Utility\")\\\n",
    "            .withColumnRenamed(\"Illegal/Sarcasm \",\"Illegal_Sarcasm\")"
   ]
  },
  {
   "cell_type": "markdown",
   "metadata": {
    "colab_type": "text",
    "id": "boLKu2MuDFoF"
   },
   "source": [
    "# Classify Venmo’s transactions\n",
    "\n",
    "## Step 1:\n",
    "\"Unpivot\" the data, so that we have one column with the categories and one column with the words/emojis."
   ]
  },
  {
   "cell_type": "code",
   "execution_count": 16,
   "metadata": {
    "colab": {},
    "colab_type": "code",
    "id": "X-n6zXhGD6aV"
   },
   "outputs": [],
   "source": [
    "#make emoji table of definitions into table for easy SQL\n",
    "emoji_dict.createOrReplaceTempView('emoji_table')"
   ]
  },
  {
   "cell_type": "code",
   "execution_count": 21,
   "metadata": {
    "colab": {},
    "colab_type": "code",
    "id": "Ti98F7yGD9z-"
   },
   "outputs": [],
   "source": [
    "#'unpivot' the data\n",
    "emoji_table_transformed = spark.sql(\"\"\"\n",
    "SELECT 'Event' as category, Event as word\n",
    "FROM emoji_table\n",
    "UNION\n",
    "SELECT 'Travel' as category, Travel as word\n",
    "FROM emoji_table\n",
    "UNION\n",
    "SELECT 'Food' as category, Food as word\n",
    "FROM emoji_table\n",
    "UNION\n",
    "SELECT 'Activity' as category, Activity as word\n",
    "FROM emoji_table\n",
    "UNION\n",
    "SELECT 'Transportation' as category, Transportation as word\n",
    "FROM emoji_table\n",
    "UNION\n",
    "SELECT 'People' as category, People as word\n",
    "FROM emoji_table\n",
    "UNION\n",
    "SELECT 'Utility' as category, Utility as word\n",
    "FROM emoji_table\n",
    "\"\"\")"
   ]
  },
  {
   "cell_type": "code",
   "execution_count": 22,
   "metadata": {
    "colab": {},
    "colab_type": "code",
    "id": "iEbYAJg3DFoI"
   },
   "outputs": [],
   "source": [
    "#define function that extract only words\n",
    "def clear_emoji(string):\n",
    "    temp_string = string\n",
    "    for letter in string:\n",
    "        if letter not in emoji.UNICODE_EMOJI and letter !='\\u200d':\n",
    "            temp_string = temp_string.replace(letter,'')\n",
    "    return temp_string\n",
    "\n",
    "clear_emoji_udf = udf(lambda x: clear_emoji(x), StringType())"
   ]
  },
  {
   "cell_type": "code",
   "execution_count": 23,
   "metadata": {
    "colab": {},
    "colab_type": "code",
    "id": "qtf4OE0vDFoK"
   },
   "outputs": [],
   "source": [
    "emoji_table_clean = emoji_table_transformed\\\n",
    "            .withColumnRenamed('word', 'word2')\\\n",
    "            .withColumn('word', clear_emoji_udf(\"word2\")).drop('word2')\\\n",
    "            .filter(emoji_table_transformed.word != '🧜‍♀️')   # kill the mermaid"
   ]
  },
  {
   "cell_type": "code",
   "execution_count": 24,
   "metadata": {
    "colab": {},
    "colab_type": "code",
    "id": "T9XgGOi9DFoL",
    "outputId": "64c5b4a3-843c-45d9-d786-a4e983297d1a"
   },
   "outputs": [
    {
     "name": "stdout",
     "output_type": "stream",
     "text": [
      "+--------------+--------+\n",
      "|      category|    word|\n",
      "+--------------+--------+\n",
      "|        Travel|      🚃|\n",
      "|Transportation|      🚖|\n",
      "|Transportation|       ⚓|\n",
      "|        People|👨‍👧‍👧|\n",
      "|        Travel|      🏬|\n",
      "|          Food|      🍟|\n",
      "|          Food|      🍘|\n",
      "|        People|      😛|\n",
      "|        People|      🤮|\n",
      "|        People|      🤞|\n",
      "+--------------+--------+\n",
      "only showing top 10 rows\n",
      "\n"
     ]
    }
   ],
   "source": [
    "emoji_table_clean.show(10)"
   ]
  },
  {
   "cell_type": "code",
   "execution_count": 25,
   "metadata": {
    "colab": {},
    "colab_type": "code",
    "id": "Hg__-co6ESBH"
   },
   "outputs": [],
   "source": [
    "#make word table of definitions into table for easy SQL\n",
    "word_dict.createOrReplaceTempView('word_table')"
   ]
  },
  {
   "cell_type": "code",
   "execution_count": 26,
   "metadata": {
    "colab": {},
    "colab_type": "code",
    "id": "ZC-kC_BwESI5"
   },
   "outputs": [],
   "source": [
    "#'unpivot' the data\n",
    "word_table_transformed = spark.sql(\"\"\"\n",
    "  SELECT 'People' as category, People as word\n",
    "  FROM word_table\n",
    "  UNION\n",
    "  SELECT 'Food' as category, Food as word\n",
    "  FROM word_table\n",
    "  UNION\n",
    "  SELECT 'Event' as category, Event as word\n",
    "  FROM word_table\n",
    "  UNION\n",
    "  SELECT 'Activity' as category, Activity as word\n",
    "  FROM word_table\n",
    "  UNION\n",
    "  SELECT 'Travel' as category, Travel as word\n",
    "  FROM word_table\n",
    "  UNION\n",
    "  SELECT 'Transportation' as category, Transportation as word\n",
    "  FROM word_table\n",
    "  UNION\n",
    "  SELECT 'Utility' as category, Utility as word\n",
    "  FROM word_table\n",
    "  UNION\n",
    "  SELECT 'Cash' as category, Cash as word\n",
    "  FROM word_table\n",
    "  UNION\n",
    "  SELECT 'IllegalSarcasm' as category, Illegal_Sarcasm as word\n",
    "  FROM word_table\n",
    "\"\"\")"
   ]
  },
  {
   "cell_type": "code",
   "execution_count": 27,
   "metadata": {
    "colab": {
     "base_uri": "https://localhost:8080/",
     "height": 459
    },
    "colab_type": "code",
    "id": "esde8qWfESMD",
    "outputId": "8c20b9ce-a1cb-49bd-b1b2-87d03c9149c4"
   },
   "outputs": [
    {
     "name": "stdout",
     "output_type": "stream",
     "text": [
      "+--------------+----------+\n",
      "|      category|      word|\n",
      "+--------------+----------+\n",
      "|          Food|     vegan|\n",
      "|      Activity|     draft|\n",
      "|      Activity|  survivor|\n",
      "|        Travel|     tahoe|\n",
      "|Transportation|       gas|\n",
      "|        People|      girl|\n",
      "|        People|        ya|\n",
      "|          Food|       bun|\n",
      "|         Event|     photo|\n",
      "|IllegalSarcasm|      swag|\n",
      "|          Food|     sugar|\n",
      "|      Activity|volleyball|\n",
      "|      Activity|       nfl|\n",
      "|        Travel|      nola|\n",
      "|          Food|      rice|\n",
      "|Transportation|  carpool |\n",
      "|      Activity|  activity|\n",
      "|        Travel|     beach|\n",
      "|       Utility|       pge|\n",
      "|       Utility|   tmobile|\n",
      "+--------------+----------+\n",
      "only showing top 20 rows\n",
      "\n"
     ]
    }
   ],
   "source": [
    "word_table_transformed.show(20)"
   ]
  },
  {
   "cell_type": "code",
   "execution_count": 28,
   "metadata": {
    "colab": {},
    "colab_type": "code",
    "id": "4PEAQGb_E35C"
   },
   "outputs": [],
   "source": [
    "#concatenate the two dictionaries into one\n",
    "dictionary_complete = word_table_transformed.union(emoji_table_clean)\n",
    "dictionary_complete = dictionary_complete.orderBy('category').repartition('category').cache()\n",
    "\n",
    "expression_dictionary = dictionary_complete.toPandas()\n",
    "expression_dictionary['word'] = expression_dictionary['word'].str.strip()\n",
    "expression_dictionary['category'] = expression_dictionary['category'].str.strip()\n",
    "expression_dictionary = expression_dictionary.set_index('word').to_dict()['category']"
   ]
  },
  {
   "cell_type": "markdown",
   "metadata": {
    "colab_type": "text",
    "id": "-P0i45P1DFoU"
   },
   "source": [
    "## Step 2:\n",
    "Get category when a word or emoji is in the \"description\" field of the Venmo data"
   ]
  },
  {
   "cell_type": "code",
   "execution_count": 29,
   "metadata": {
    "colab": {},
    "colab_type": "code",
    "id": "awHGfksvDFoU"
   },
   "outputs": [],
   "source": [
    "from pyspark.ml.feature import Tokenizer, StopWordsRemover\n",
    "from pyspark.ml import Pipeline"
   ]
  },
  {
   "cell_type": "code",
   "execution_count": 30,
   "metadata": {
    "colab": {},
    "colab_type": "code",
    "id": "NEGOeIdHEXH9"
   },
   "outputs": [],
   "source": [
    "#add leading and trailing space to \"description\" column to make sure we can match to complete words\n",
    "#even when there's only a one word/emoji description\n",
    "venmo_df = venmo_df.withColumn('description', lower(col('description')))\n",
    "#venmo_df = venmo_df.withColumn('description',concat(lit(' '),col('description'),lit(' ')))\n",
    "\n",
    "#dictionary_complete = dictionary_complete.withColumn('word',concat(lit(' '),col('word'),lit(' ')))\n",
    "\n",
    "#transform to tables for easy SQL\n",
    "venmo_df.createOrReplaceTempView('venmo_table')\n",
    "dictionary_complete.createOrReplaceTempView('dictionary_table')"
   ]
  },
  {
   "cell_type": "code",
   "execution_count": 31,
   "metadata": {
    "colab": {},
    "colab_type": "code",
    "id": "XFTEoSZ_EXLj"
   },
   "outputs": [],
   "source": [
    "#join the data by cross join -- creates a lot of rows, but makes it easier to find if the 'word' is in the 'description'\n",
    "joined_data = spark.sql(\"\"\"\n",
    "SELECT *\n",
    "FROM venmo_table\n",
    "CROSS JOIN dictionary_table\n",
    "\"\"\")"
   ]
  },
  {
   "cell_type": "code",
   "execution_count": 32,
   "metadata": {
    "colab": {
     "base_uri": "https://localhost:8080/",
     "height": 479
    },
    "colab_type": "code",
    "id": "ACD4y49X0yTU",
    "outputId": "af474861-d8d3-4532-a8a6-c5fd858823d7"
   },
   "outputs": [
    {
     "name": "stdout",
     "output_type": "stream",
     "text": [
      "+-------+-------+----------------+-------------------+--------------------+-----------+--------------------+--------+------+\n",
      "|  user1|  user2|transaction_type|           datetime|         description|is_business|            story_id|category|  word|\n",
      "+-------+-------+----------------+-------------------+--------------------+-----------+--------------------+--------+------+\n",
      "|3891364|5452142|         payment|2016-01-30 03:02:17|bdayyy🎉💞🎉 sund...|      false|56ac27b9cd03c9af2...|    Food| vegan|\n",
      "|3891364|5452142|         payment|2016-01-30 03:02:17|bdayyy🎉💞🎉 sund...|      false|56ac27b9cd03c9af2...|    Food|   bun|\n",
      "|3891364|5452142|         payment|2016-01-30 03:02:17|bdayyy🎉💞🎉 sund...|      false|56ac27b9cd03c9af2...|    Food| sugar|\n",
      "|3891364|5452142|         payment|2016-01-30 03:02:17|bdayyy🎉💞🎉 sund...|      false|56ac27b9cd03c9af2...|    Food|  rice|\n",
      "|3891364|5452142|         payment|2016-01-30 03:02:17|bdayyy🎉💞🎉 sund...|      false|56ac27b9cd03c9af2...|    Food|  mike|\n",
      "|3891364|5452142|         payment|2016-01-30 03:02:17|bdayyy🎉💞🎉 sund...|      false|56ac27b9cd03c9af2...|    Food|brunch|\n",
      "|3891364|5452142|         payment|2016-01-30 03:02:17|bdayyy🎉💞🎉 sund...|      false|56ac27b9cd03c9af2...|    Food| cooky|\n",
      "|3891364|5452142|         payment|2016-01-30 03:02:17|bdayyy🎉💞🎉 sund...|      false|56ac27b9cd03c9af2...|    Food|  john|\n",
      "|3891364|5452142|         payment|2016-01-30 03:02:17|bdayyy🎉💞🎉 sund...|      false|56ac27b9cd03c9af2...|    Food|  shot|\n",
      "|3891364|5452142|         payment|2016-01-30 03:02:17|bdayyy🎉💞🎉 sund...|      false|56ac27b9cd03c9af2...|    Food|  mule|\n",
      "+-------+-------+----------------+-------------------+--------------------+-----------+--------------------+--------+------+\n",
      "only showing top 10 rows\n",
      "\n"
     ]
    }
   ],
   "source": [
    "joined_data.show(10)"
   ]
  },
  {
   "cell_type": "code",
   "execution_count": 33,
   "metadata": {
    "colab": {},
    "colab_type": "code",
    "id": "Xr40NYFkDFoa"
   },
   "outputs": [],
   "source": [
    "#define function that puts the emojis from the descriptions into one string\n",
    "import regex\n",
    "def get_emojis(text):\n",
    "\n",
    "    emoji_list = []\n",
    "    data = regex.findall(r'\\X', text)\n",
    "    for word in data:\n",
    "        if any(char in emoji.UNICODE_EMOJI for char in word):\n",
    "            emoji_list.append(word)\n",
    "    s = ' '\n",
    "    emoji_string = s.join(emoji_list)\n",
    "    \n",
    "    return emoji_string"
   ]
  },
  {
   "cell_type": "code",
   "execution_count": 34,
   "metadata": {
    "colab": {},
    "colab_type": "code",
    "id": "EOmUNXTuDFoc"
   },
   "outputs": [],
   "source": [
    "#define function that extract only words\n",
    "def get_words(string):\n",
    "    temp_string = string\n",
    "    for letter in string:\n",
    "        if letter in emoji.UNICODE_EMOJI or letter == '\\u200d':\n",
    "            temp_string = temp_string.replace(letter, '')\n",
    "    return temp_string"
   ]
  },
  {
   "cell_type": "code",
   "execution_count": 35,
   "metadata": {
    "colab": {},
    "colab_type": "code",
    "id": "J2yVqdCNEXSm"
   },
   "outputs": [],
   "source": [
    "#turn get_emojis function into a Spark UDF\n",
    "get_emoji_udf = udf(lambda x: get_emojis(x), StringType())\n",
    "get_words_udf = udf(lambda x: get_words(x), StringType())\n",
    "\n",
    "\n",
    "#add emoji column and only select necessary columns\n",
    "joined_data = venmo_df\\\n",
    "              .withColumn('emojis', get_emoji_udf('description'))\\\n",
    "              .withColumn('words', get_words_udf('description'))\\\n",
    "              .withColumn('words', F.trim(F.col(\"words\")))\n"
   ]
  },
  {
   "cell_type": "code",
   "execution_count": 36,
   "metadata": {
    "colab": {},
    "colab_type": "code",
    "id": "-Ae_zR3WDFof",
    "outputId": "093d890d-55e0-40db-a359-76eaeaf0de02"
   },
   "outputs": [
    {
     "name": "stdout",
     "output_type": "stream",
     "text": [
      "+-------+-------+----------------+-------------------+--------------------+-----------+--------------------+-----------+----------------+\n",
      "|  user1|  user2|transaction_type|           datetime|         description|is_business|            story_id|     emojis|           words|\n",
      "+-------+-------+----------------+-------------------+--------------------+-----------+--------------------+-----------+----------------+\n",
      "|3891364|5452142|         payment|2016-01-30 03:02:17|bdayyy🎉💞🎉 sund...|      false|56ac27b9cd03c9af2...|   🎉 💞 🎉|bdayyy sundiego!|\n",
      "|4136881|1074970|         payment|2016-06-21 21:36:19|                🍕❤️|      false|5769b35323e064eac...|      🍕 ❤️|               ️|\n",
      "|1841732|2900826|         payment|2016-06-29 13:13:16|            🍇🍌🍓🍹|      false|5773c96c23e064eac...|🍇 🍌 🍓 🍹|                |\n",
      "|2281658|1429548|         payment|2015-08-07 04:41:17|             🚙✊🏻💦|      false|55c436ed1a624b17e...|  🚙 ✊🏻 💦|                |\n",
      "| 204908| 234866|         payment|2015-04-05 04:07:43|         sushi samba|      false|5520b50fe855742e2...|           |     sushi samba|\n",
      "|1029768|1543181|         payment|2016-04-15 06:10:49|              🍸🍸🍸|      false|571085e9cd03c9af2...|   🍸 🍸 🍸|                |\n",
      "| 378749| 385029|         payment|2016-07-14 20:52:07|         boat refund|      false|5787fb7723e064eac...|           |     boat refund|\n",
      "| 356543| 815652|         payment|2016-09-06 00:34:58|    bc we can't stop|      false|57ce0f3223e064eac...|           |bc we can't stop|\n",
      "|3809372|2594217|          charge|2016-03-10 15:21:04|    february comcast|      false|56e190e0cd03c9af2...|           |february comcast|\n",
      "|5392766|5750668|         payment|2016-02-07 01:58:35|              🍹🍹🍹|      false|56b6a4cbcd03c9af2...|   🍹 🍹 🍹|                |\n",
      "+-------+-------+----------------+-------------------+--------------------+-----------+--------------------+-----------+----------------+\n",
      "only showing top 10 rows\n",
      "\n"
     ]
    }
   ],
   "source": [
    "joined_data.show(10)"
   ]
  },
  {
   "cell_type": "code",
   "execution_count": 37,
   "metadata": {
    "colab": {},
    "colab_type": "code",
    "id": "Bco0Z0daEXVh"
   },
   "outputs": [],
   "source": [
    "tokenizer_emoji = Tokenizer(inputCol=\"emojis\", outputCol=\"token_emojis\")\n",
    "tokenizer_words = Tokenizer(inputCol=\"words\", outputCol=\"token_words_dirt\")\n",
    "remover = StopWordsRemover(inputCol=\"token_words_dirt\", outputCol=\"token_words\")\n",
    "### Should we remove punctuation marks?\n",
    "pipeline = Pipeline(stages=[tokenizer_emoji, tokenizer_words, remover])\n",
    "\n",
    "joined_data_token = pipeline.fit(joined_data).transform(joined_data)\\\n",
    "                    .drop('emojis', 'words', 'token_words_dirt')"
   ]
  },
  {
   "cell_type": "code",
   "execution_count": 38,
   "metadata": {
    "colab": {},
    "colab_type": "code",
    "id": "1oYeeuz8DFoi",
    "outputId": "68e72d0c-3960-4c33-f1e7-ca50a146978f"
   },
   "outputs": [
    {
     "name": "stdout",
     "output_type": "stream",
     "text": [
      "+-------+-------+----------------+-------------------+--------------------+-----------+--------------------+----------------+-------------------+\n",
      "|  user1|  user2|transaction_type|           datetime|         description|is_business|            story_id|    token_emojis|        token_words|\n",
      "+-------+-------+----------------+-------------------+--------------------+-----------+--------------------+----------------+-------------------+\n",
      "|3891364|5452142|         payment|2016-01-30 03:02:17|bdayyy🎉💞🎉 sund...|      false|56ac27b9cd03c9af2...|    [🎉, 💞, 🎉]|[bdayyy, sundiego!]|\n",
      "|4136881|1074970|         payment|2016-06-21 21:36:19|                🍕❤️|      false|5769b35323e064eac...|        [🍕, ❤️]|                [️]|\n",
      "|1841732|2900826|         payment|2016-06-29 13:13:16|            🍇🍌🍓🍹|      false|5773c96c23e064eac...|[🍇, 🍌, 🍓, 🍹]|                 []|\n",
      "|2281658|1429548|         payment|2015-08-07 04:41:17|             🚙✊🏻💦|      false|55c436ed1a624b17e...|   [🚙, ✊🏻, 💦]|                 []|\n",
      "| 204908| 234866|         payment|2015-04-05 04:07:43|         sushi samba|      false|5520b50fe855742e2...|              []|     [sushi, samba]|\n",
      "+-------+-------+----------------+-------------------+--------------------+-----------+--------------------+----------------+-------------------+\n",
      "only showing top 5 rows\n",
      "\n"
     ]
    }
   ],
   "source": [
    "joined_data_token.show(5)"
   ]
  },
  {
   "cell_type": "code",
   "execution_count": 39,
   "metadata": {
    "colab": {},
    "colab_type": "code",
    "id": "-vdrUowyDFok"
   },
   "outputs": [],
   "source": [
    "joined_data_token = joined_data_token.withColumn('tokens',\n",
    "                             concat(coalesce(col(\"token_emojis\"),array()),\n",
    "                                    coalesce(col(\"token_words\"), array())\n",
    "                                   ))"
   ]
  },
  {
   "cell_type": "code",
   "execution_count": 40,
   "metadata": {
    "colab": {},
    "colab_type": "code",
    "id": "Q_apFV0HDFol",
    "outputId": "412cc7e8-49fd-4424-ec15-154f1c2d4c0e"
   },
   "outputs": [
    {
     "name": "stdout",
     "output_type": "stream",
     "text": [
      "+--------------------+--------------------+\n",
      "|         description|              tokens|\n",
      "+--------------------+--------------------+\n",
      "|bdayyy🎉💞🎉 sund...|[🎉, 💞, 🎉, bday...|\n",
      "|                🍕❤️|         [🍕, ❤️, ️]|\n",
      "|            🍇🍌🍓🍹|  [🍇, 🍌, 🍓, 🍹, ]|\n",
      "|             🚙✊🏻💦|     [🚙, ✊🏻, 💦, ]|\n",
      "|         sushi samba|    [, sushi, samba]|\n",
      "|              🍸🍸🍸|      [🍸, 🍸, 🍸, ]|\n",
      "|         boat refund|    [, boat, refund]|\n",
      "|    bc we can't stop|        [, bc, stop]|\n",
      "|    february comcast|[, february, comc...|\n",
      "|              🍹🍹🍹|      [🍹, 🍹, 🍹, ]|\n",
      "|            stripper|        [, stripper]|\n",
      "|                   ✈|               [✈, ]|\n",
      "|        for the kids|            [, kids]|\n",
      "|tahoe food and dr...|[, tahoe, food, d...|\n",
      "|lyftplus to trous...|[, lyftplus, trou...|\n",
      "|1 x grade a brooo...|[, 1, x, grade, b...|\n",
      "|         🎫 thanks !|     [🎫, thanks, !]|\n",
      "|                   ☕|               [☕, ]|\n",
      "|              🎉🎉🎉|      [🎉, 🎉, 🎉, ]|\n",
      "|jerseys  what els...|[, jerseys, , els...|\n",
      "|tosh.o for you an...|     [, tosh.o, jp.]|\n",
      "|barrio oolong the...|[, barrio, oolong...|\n",
      "|     may electricity|[, may, electricity]|\n",
      "|          💦💸 and ⛽|         [💦, 💸, ⛽]|\n",
      "|                food|            [, food]|\n",
      "| car fart💨✌👆👮👳😤|[💨, ✌, 👆, 👮, ?...|\n",
      "| keys to the kingdom|   [, keys, kingdom]|\n",
      "|             uberrrr|         [, uberrrr]|\n",
      "|                😘😘|          [😘, 😘, ]|\n",
      "|some soggy old cr...|[, soggy, old, cr...|\n",
      "+--------------------+--------------------+\n",
      "only showing top 30 rows\n",
      "\n"
     ]
    }
   ],
   "source": [
    "joined_data_token.select('description', 'tokens').show(30)"
   ]
  },
  {
   "cell_type": "code",
   "execution_count": 41,
   "metadata": {
    "colab": {},
    "colab_type": "code",
    "id": "SnxIjNZfDFom"
   },
   "outputs": [],
   "source": [
    "def get_category(vector):\n",
    "    categ = []\n",
    "    for token in vector:\n",
    "        if token in expression_dictionary:\n",
    "            categ.append(expression_dictionary[token])\n",
    "    if len(categ) == 0:\n",
    "        outp = 'No category'\n",
    "    else:\n",
    "        outp=categ[0]  # Get the first element only\n",
    "    return outp\n",
    "\n",
    "get_category_udf = udf(lambda x: get_category(x), StringType())"
   ]
  },
  {
   "cell_type": "code",
   "execution_count": 42,
   "metadata": {
    "colab": {},
    "colab_type": "code",
    "id": "fi1bpKfsDFon"
   },
   "outputs": [],
   "source": [
    "venmo_categorized = joined_data_token.withColumn('category', get_category_udf('tokens'))"
   ]
  },
  {
   "cell_type": "code",
   "execution_count": 43,
   "metadata": {
    "colab": {},
    "colab_type": "code",
    "id": "hDFCRpIsDFoo",
    "outputId": "61975ac2-34cd-4f76-812f-885b69bb70c1"
   },
   "outputs": [
    {
     "name": "stdout",
     "output_type": "stream",
     "text": [
      "+-------+-------+----------------+-------------------+--------------------+-----------+--------------------+----------------+-------------------+--------------------+-----------+\n",
      "|  user1|  user2|transaction_type|           datetime|         description|is_business|            story_id|    token_emojis|        token_words|              tokens|   category|\n",
      "+-------+-------+----------------+-------------------+--------------------+-----------+--------------------+----------------+-------------------+--------------------+-----------+\n",
      "|3891364|5452142|         payment|2016-01-30 03:02:17|bdayyy🎉💞🎉 sund...|      false|56ac27b9cd03c9af2...|    [🎉, 💞, 🎉]|[bdayyy, sundiego!]|[🎉, 💞, 🎉, bday...|   Activity|\n",
      "|4136881|1074970|         payment|2016-06-21 21:36:19|                🍕❤️|      false|5769b35323e064eac...|        [🍕, ❤️]|                [️]|         [🍕, ❤️, ️]|       Food|\n",
      "|1841732|2900826|         payment|2016-06-29 13:13:16|            🍇🍌🍓🍹|      false|5773c96c23e064eac...|[🍇, 🍌, 🍓, 🍹]|                 []|  [🍇, 🍌, 🍓, 🍹, ]|       Food|\n",
      "|2281658|1429548|         payment|2015-08-07 04:41:17|             🚙✊🏻💦|      false|55c436ed1a624b17e...|   [🚙, ✊🏻, 💦]|                 []|     [🚙, ✊🏻, 💦, ]|    Utility|\n",
      "| 204908| 234866|         payment|2015-04-05 04:07:43|         sushi samba|      false|5520b50fe855742e2...|              []|     [sushi, samba]|    [, sushi, samba]|       Food|\n",
      "|1029768|1543181|         payment|2016-04-15 06:10:49|              🍸🍸🍸|      false|571085e9cd03c9af2...|    [🍸, 🍸, 🍸]|                 []|      [🍸, 🍸, 🍸, ]|       Food|\n",
      "| 378749| 385029|         payment|2016-07-14 20:52:07|         boat refund|      false|5787fb7723e064eac...|              []|     [boat, refund]|    [, boat, refund]|   Activity|\n",
      "| 356543| 815652|         payment|2016-09-06 00:34:58|    bc we can't stop|      false|57ce0f3223e064eac...|              []|         [bc, stop]|        [, bc, stop]|No category|\n",
      "|3809372|2594217|          charge|2016-03-10 15:21:04|    february comcast|      false|56e190e0cd03c9af2...|              []|[february, comcast]|[, february, comc...|    Utility|\n",
      "|5392766|5750668|         payment|2016-02-07 01:58:35|              🍹🍹🍹|      false|56b6a4cbcd03c9af2...|    [🍹, 🍹, 🍹]|                 []|      [🍹, 🍹, 🍹, ]|       Food|\n",
      "+-------+-------+----------------+-------------------+--------------------+-----------+--------------------+----------------+-------------------+--------------------+-----------+\n",
      "only showing top 10 rows\n",
      "\n"
     ]
    }
   ],
   "source": [
    "venmo_categorized.show(10)"
   ]
  },
  {
   "cell_type": "code",
   "execution_count": 44,
   "metadata": {
    "colab": {},
    "colab_type": "code",
    "id": "QD7iQvU5DFor",
    "outputId": "e75f2993-f2b5-41ee-9f2f-2befacdd0e1c"
   },
   "outputs": [
    {
     "name": "stdout",
     "output_type": "stream",
     "text": [
      "+--------------+----------------+\n",
      "|      category|num_transactions|\n",
      "+--------------+----------------+\n",
      "|   No category|         2887026|\n",
      "|          Food|         1424506|\n",
      "|        People|          714895|\n",
      "|       Utility|          631916|\n",
      "|      Activity|          545013|\n",
      "|Transportation|          345425|\n",
      "|IllegalSarcasm|          228247|\n",
      "|        Travel|          138496|\n",
      "|         Event|          138168|\n",
      "|          Cash|           59445|\n",
      "+--------------+----------------+\n",
      "\n"
     ]
    }
   ],
   "source": [
    "venmo_categorized\\\n",
    "          .repartition('category')\\\n",
    "          .groupBy('category')\\\n",
    "          .count()\\\n",
    "          .select('category', col('count').alias('num_transactions'))\\\n",
    "          .sort(desc('num_transactions')).show()"
   ]
  },
  {
   "cell_type": "markdown",
   "metadata": {
    "colab_type": "text",
    "id": "r7nhSMbyDFos"
   },
   "source": [
    "# Exploring transactions"
   ]
  },
  {
   "cell_type": "code",
   "execution_count": 45,
   "metadata": {
    "colab": {},
    "colab_type": "code",
    "id": "qSxCjVk2DFot"
   },
   "outputs": [],
   "source": [
    "#define function that finds transactions with only emojis\n",
    "def mark_emoji_only(description_column):\n",
    "    temp_string = description_column\n",
    "    for letter in description_column:\n",
    "        if letter != ' ':\n",
    "            if letter not in emoji.UNICODE_EMOJI and letter !='\\u200d':\n",
    "                temp_string = temp_string.replace(letter,'')\n",
    "    if (len(temp_string) < len(description_column)):\n",
    "        return 0\n",
    "    else:\n",
    "        return 1   \n",
    "\n",
    "mark_emoji_only_udf = udf(lambda x: mark_emoji_only(x), IntegerType())"
   ]
  },
  {
   "cell_type": "code",
   "execution_count": 46,
   "metadata": {
    "colab": {},
    "colab_type": "code",
    "id": "Z5-lP8akDFou"
   },
   "outputs": [],
   "source": [
    "venmo_categorized = venmo_categorized.withColumn('emoji_only', mark_emoji_only_udf(col('description')))"
   ]
  },
  {
   "cell_type": "code",
   "execution_count": 47,
   "metadata": {
    "colab": {},
    "colab_type": "code",
    "id": "ttzcgXc6DFow",
    "outputId": "9e686147-ae11-4ae5-f226-05f327994e89"
   },
   "outputs": [
    {
     "name": "stdout",
     "output_type": "stream",
     "text": [
      "+-------+-------+----------------+-------------------+--------------------+-----------+--------------------+----------------+-------------------+--------------------+-----------+----------+\n",
      "|  user1|  user2|transaction_type|           datetime|         description|is_business|            story_id|    token_emojis|        token_words|              tokens|   category|emoji_only|\n",
      "+-------+-------+----------------+-------------------+--------------------+-----------+--------------------+----------------+-------------------+--------------------+-----------+----------+\n",
      "|3891364|5452142|         payment|2016-01-30 03:02:17|bdayyy🎉💞🎉 sund...|      false|56ac27b9cd03c9af2...|    [🎉, 💞, 🎉]|[bdayyy, sundiego!]|[🎉, 💞, 🎉, bday...|   Activity|         0|\n",
      "|4136881|1074970|         payment|2016-06-21 21:36:19|                🍕❤️|      false|5769b35323e064eac...|        [🍕, ❤️]|                [️]|         [🍕, ❤️, ️]|       Food|         0|\n",
      "|1841732|2900826|         payment|2016-06-29 13:13:16|            🍇🍌🍓🍹|      false|5773c96c23e064eac...|[🍇, 🍌, 🍓, 🍹]|                 []|  [🍇, 🍌, 🍓, 🍹, ]|       Food|         1|\n",
      "|2281658|1429548|         payment|2015-08-07 04:41:17|             🚙✊🏻💦|      false|55c436ed1a624b17e...|   [🚙, ✊🏻, 💦]|                 []|     [🚙, ✊🏻, 💦, ]|    Utility|         1|\n",
      "| 204908| 234866|         payment|2015-04-05 04:07:43|         sushi samba|      false|5520b50fe855742e2...|              []|     [sushi, samba]|    [, sushi, samba]|       Food|         0|\n",
      "|1029768|1543181|         payment|2016-04-15 06:10:49|              🍸🍸🍸|      false|571085e9cd03c9af2...|    [🍸, 🍸, 🍸]|                 []|      [🍸, 🍸, 🍸, ]|       Food|         1|\n",
      "| 378749| 385029|         payment|2016-07-14 20:52:07|         boat refund|      false|5787fb7723e064eac...|              []|     [boat, refund]|    [, boat, refund]|   Activity|         0|\n",
      "| 356543| 815652|         payment|2016-09-06 00:34:58|    bc we can't stop|      false|57ce0f3223e064eac...|              []|         [bc, stop]|        [, bc, stop]|No category|         0|\n",
      "|3809372|2594217|          charge|2016-03-10 15:21:04|    february comcast|      false|56e190e0cd03c9af2...|              []|[february, comcast]|[, february, comc...|    Utility|         0|\n",
      "|5392766|5750668|         payment|2016-02-07 01:58:35|              🍹🍹🍹|      false|56b6a4cbcd03c9af2...|    [🍹, 🍹, 🍹]|                 []|      [🍹, 🍹, 🍹, ]|       Food|         1|\n",
      "+-------+-------+----------------+-------------------+--------------------+-----------+--------------------+----------------+-------------------+--------------------+-----------+----------+\n",
      "only showing top 10 rows\n",
      "\n"
     ]
    }
   ],
   "source": [
    "venmo_categorized.show(10)"
   ]
  },
  {
   "cell_type": "code",
   "execution_count": 48,
   "metadata": {
    "colab": {},
    "colab_type": "code",
    "id": "-B2ZY5f0DFoy"
   },
   "outputs": [],
   "source": [
    "num_emoji_only = venmo_categorized.filter(F.col('emoji_only') == 1).count()\n",
    "total_transactions = venmo_categorized.count()\n",
    "percent_emoji_only = (num_emoji_only/total_transactions)*100"
   ]
  },
  {
   "cell_type": "code",
   "execution_count": 49,
   "metadata": {
    "colab": {},
    "colab_type": "code",
    "id": "MBYdJhjFDFoz",
    "outputId": "a4e84e86-d36b-4a1d-ec20-e4e33e1a9f7f"
   },
   "outputs": [
    {
     "name": "stdout",
     "output_type": "stream",
     "text": [
      "Number emoji only transactions:  1702252\n",
      "Total number transactions:  7113137\n",
      "Percent emoji only transactions:  23.931101003678123\n"
     ]
    }
   ],
   "source": [
    "print('Number emoji only transactions: ',num_emoji_only)\n",
    "print('Total number transactions: ', total_transactions)\n",
    "print('Percent emoji only transactions: ', percent_emoji_only)"
   ]
  },
  {
   "cell_type": "markdown",
   "metadata": {
    "colab_type": "text",
    "id": "5KqDvQtxDFo2"
   },
   "source": [
    "## Top 5 Most Popular Emojis"
   ]
  },
  {
   "cell_type": "code",
   "execution_count": 50,
   "metadata": {
    "colab": {},
    "colab_type": "code",
    "id": "PC_95d1_DFo3"
   },
   "outputs": [],
   "source": [
    "#define function that gets number of emojis\n",
    "def get_num_emojis(description_column):\n",
    "    temp_string = description_column\n",
    "    for letter in description_column:\n",
    "        if letter not in emoji.UNICODE_EMOJI and letter !='\\u200d':\n",
    "                temp_string = temp_string.replace(letter,'')\n",
    "    return len(temp_string)  \n",
    "\n",
    "get_num_emojis_udf = udf(lambda x: get_num_emojis(x), IntegerType())"
   ]
  },
  {
   "cell_type": "code",
   "execution_count": 51,
   "metadata": {
    "colab": {},
    "colab_type": "code",
    "id": "YTBENVsmDFo5"
   },
   "outputs": [],
   "source": [
    "venmo_categorized = venmo_categorized.withColumn('num_emojis', get_num_emojis_udf(col('description')))"
   ]
  },
  {
   "cell_type": "code",
   "execution_count": 52,
   "metadata": {
    "colab": {},
    "colab_type": "code",
    "id": "qcXd3LAwDFo8"
   },
   "outputs": [],
   "source": [
    "emoji_transactions = venmo_categorized.filter(F.col('num_emojis') >= 1)"
   ]
  },
  {
   "cell_type": "code",
   "execution_count": 53,
   "metadata": {
    "colab": {},
    "colab_type": "code",
    "id": "saC-DZWRDFo9"
   },
   "outputs": [],
   "source": [
    "emojis_exploded = emoji_transactions.select(\n",
    "  col(\"user1\"),col(\"category\"),\n",
    "  explode(col(\"token_emojis\"))).cache()"
   ]
  },
  {
   "cell_type": "code",
   "execution_count": 54,
   "metadata": {
    "colab": {},
    "colab_type": "code",
    "id": "q36YX0rnDFo_",
    "outputId": "4241c737-435e-4d71-9edf-923e941faaba"
   },
   "outputs": [
    {
     "name": "stdout",
     "output_type": "stream",
     "text": [
      "+-------+--------------+---+\n",
      "|  user1|      category|col|\n",
      "+-------+--------------+---+\n",
      "|3891364|      Activity| 🎉|\n",
      "|3891364|      Activity| 💞|\n",
      "|3891364|      Activity| 🎉|\n",
      "|4136881|          Food| 🍕|\n",
      "|4136881|          Food| ❤️|\n",
      "|1841732|          Food| 🍇|\n",
      "|1841732|          Food| 🍌|\n",
      "|1841732|          Food| 🍓|\n",
      "|1841732|          Food| 🍹|\n",
      "|2281658|       Utility| 🚙|\n",
      "|2281658|       Utility|✊🏻|\n",
      "|2281658|       Utility| 💦|\n",
      "|1029768|          Food| 🍸|\n",
      "|1029768|          Food| 🍸|\n",
      "|1029768|          Food| 🍸|\n",
      "|5392766|          Food| 🍹|\n",
      "|5392766|          Food| 🍹|\n",
      "|5392766|          Food| 🍹|\n",
      "|6599514|Transportation|  ✈|\n",
      "|6176516|      Activity| 🎫|\n",
      "+-------+--------------+---+\n",
      "only showing top 20 rows\n",
      "\n"
     ]
    }
   ],
   "source": [
    "emojis_exploded.show(20)"
   ]
  },
  {
   "cell_type": "code",
   "execution_count": 55,
   "metadata": {
    "colab": {},
    "colab_type": "code",
    "id": "rq07QdDgDFpA",
    "outputId": "9fe54dd3-d5b3-41e9-8bf6-c909e0e7e6ba"
   },
   "outputs": [
    {
     "name": "stdout",
     "output_type": "stream",
     "text": [
      "+---+----------+\n",
      "|col|times_used|\n",
      "+---+----------+\n",
      "| 🍕|    215031|\n",
      "| 🍻|    145229|\n",
      "| 💸|    124726|\n",
      "| 🍷|    111157|\n",
      "| 🎉|     94321|\n",
      "+---+----------+\n",
      "only showing top 5 rows\n",
      "\n"
     ]
    }
   ],
   "source": [
    "emojis_exploded.groupBy('col').count()\\\n",
    "               .select('col', col('count').alias('times_used'))\\\n",
    "               .sort(desc('times_used')).show(5)"
   ]
  },
  {
   "cell_type": "markdown",
   "metadata": {
    "colab_type": "text",
    "id": "J2UWPGIuDFpD"
   },
   "source": [
    "## Top 3 Most Popular Emoji Categories"
   ]
  },
  {
   "cell_type": "code",
   "execution_count": 56,
   "metadata": {
    "colab": {},
    "colab_type": "code",
    "id": "bwpdiH1QDFpD",
    "outputId": "cffb6e6d-ec46-421b-aa21-9b6ce05c5e6e"
   },
   "outputs": [
    {
     "name": "stdout",
     "output_type": "stream",
     "text": [
      "+-----------+----------------+\n",
      "|   category|num_transactions|\n",
      "+-----------+----------------+\n",
      "|       Food|          784419|\n",
      "|No category|          545989|\n",
      "|     People|          526075|\n",
      "|    Utility|          223811|\n",
      "+-----------+----------------+\n",
      "only showing top 4 rows\n",
      "\n"
     ]
    }
   ],
   "source": [
    "emoji_transactions.groupBy('category').count()\\\n",
    "                  .select('category', col('count').alias('num_transactions'))\\\n",
    "                  .sort(desc('num_transactions')).show(4)"
   ]
  },
  {
   "cell_type": "markdown",
   "metadata": {
    "colab_type": "text",
    "id": "h6-QRS33DFpF"
   },
   "source": [
    "# Create individual spending behavior profiles.\n",
    "\n",
    "For each user, create a variable to indicate their spending behavior profile. For example, if a user has made 10 transactions, where 5 of them are food and the other 5 are activity, then the user’s spending profile will be 50% food and 50% activity."
   ]
  },
  {
   "cell_type": "code",
   "execution_count": 57,
   "metadata": {
    "colab": {},
    "colab_type": "code",
    "id": "S72-d5M3DFpF"
   },
   "outputs": [],
   "source": [
    "# Create Stacked Categorized Venmo DataFrame\n",
    "pre_stack_df = venmo_categorized.select('user1', 'user2', 'datetime', 'category')\n",
    "pre_stack_df.createOrReplaceTempView('user_table1')\n",
    "\n",
    "# union to get all user transactions regardless of user1 to user2 or user2 to user1\n",
    "all_user_transactions = spark.sql(\"\"\"\n",
    "  SELECT t1.user1, t1.user2, t1.datetime, t1.category\n",
    "    FROM user_table1 t1\n",
    "    UNION ALL\n",
    "  SELECT t2.user2 as user1, t2.user1 as user2, t2.datetime, t2.category\n",
    "  FROM user_table1 t2\n",
    "  \"\"\")"
   ]
  },
  {
   "cell_type": "code",
   "execution_count": 58,
   "metadata": {
    "colab": {},
    "colab_type": "code",
    "id": "gjHWklnHDFpG"
   },
   "outputs": [],
   "source": [
    "overCategory = Window.partitionBy(\"user1\")\n",
    "\n",
    "group_venmo = all_user_transactions\\\n",
    "             .select('user1', 'category')\\\n",
    "             .repartition('user1', 'category')\\\n",
    "             .groupBy(['user1', 'category'])\\\n",
    "             .count()\\\n",
    "             .withColumn(\"total\",  F.sum(\"count\").over(overCategory))\\\n",
    "             .withColumn(\"percentage\", F.column(\"count\")/ F.column(\"total\"))\\\n",
    "             .withColumn(\"percentage\", F.round(\"percentage\",3)).drop('count', 'total')\\\n",
    "             .cache()"
   ]
  },
  {
   "cell_type": "code",
   "execution_count": 59,
   "metadata": {
    "colab": {},
    "colab_type": "code",
    "id": "dMqBSAnBDFpI"
   },
   "outputs": [],
   "source": [
    "spending_behavior = group_venmo\\\n",
    "                    .groupBy(['user1'])\\\n",
    "                    .pivot(\"category\").sum(\"percentage\")\\\n",
    "                    .fillna(0).cache()"
   ]
  },
  {
   "cell_type": "code",
   "execution_count": 60,
   "metadata": {
    "colab": {},
    "colab_type": "code",
    "id": "gS2LWyLKDFpJ",
    "outputId": "5ef55955-0cbf-465b-b18d-04387903c853"
   },
   "outputs": [
    {
     "name": "stdout",
     "output_type": "stream",
     "text": [
      "+-----+--------+----+-----+----+--------------+-----------+------+--------------+------+-------+\n",
      "|user1|Activity|Cash|Event|Food|IllegalSarcasm|No category|People|Transportation|Travel|Utility|\n",
      "+-----+--------+----+-----+----+--------------+-----------+------+--------------+------+-------+\n",
      "| 2866|     0.0| 0.0|  0.0| 0.0|           0.0|        1.0|   0.0|           0.0|   0.0|    0.0|\n",
      "| 3918|     0.0| 0.0|  0.0| 1.0|           0.0|        0.0|   0.0|           0.0|   0.0|    0.0|\n",
      "| 4935|     0.0| 0.0|  0.0| 0.0|           0.0|        1.0|   0.0|           0.0|   0.0|    0.0|\n",
      "| 5300|    0.25| 0.0|  0.0| 0.5|           0.0|        0.0|   0.0|          0.25|   0.0|    0.0|\n",
      "| 6620|     0.0| 0.0|  0.0| 0.0|           0.0|        0.5|   0.0|           0.0|   0.5|    0.0|\n",
      "|20735|     0.5| 0.0|  0.0| 0.0|           0.0|        0.5|   0.0|           0.0|   0.0|    0.0|\n",
      "|28170|     0.0| 0.0|  0.0| 0.0|           0.0|      0.571|   0.0|           0.0|   0.0|  0.429|\n",
      "|28759|     0.0| 0.0|  0.0|0.25|           0.0|        0.5|   0.0|           0.0|   0.0|   0.25|\n",
      "|29054|     0.0| 0.0|  0.0| 0.0|           0.0|        1.0|   0.0|           0.0|   0.0|    0.0|\n",
      "|29894|     0.0| 0.0|  0.0| 0.5|           0.0|        0.5|   0.0|           0.0|   0.0|    0.0|\n",
      "|30903|     0.0| 0.0|  0.0| 0.2|           0.0|        0.4|   0.2|           0.2|   0.0|    0.0|\n",
      "|30970|     0.0| 0.0|  0.0| 0.0|           0.0|        1.0|   0.0|           0.0|   0.0|    0.0|\n",
      "|32396|     0.0| 0.0|  0.0| 1.0|           0.0|        0.0|   0.0|           0.0|   0.0|    0.0|\n",
      "|33602|     0.3| 0.1|  0.0| 0.0|           0.0|        0.5|   0.1|           0.0|   0.0|    0.0|\n",
      "|35820|     0.0| 0.0|  0.0| 0.0|           0.0|        0.5|   0.0|           0.0|   0.0|    0.5|\n",
      "+-----+--------+----+-----+----+--------------+-----------+------+--------------+------+-------+\n",
      "only showing top 15 rows\n",
      "\n"
     ]
    }
   ],
   "source": [
    "spending_behavior.show(15)"
   ]
  },
  {
   "cell_type": "code",
   "execution_count": 62,
   "metadata": {
    "colab": {},
    "colab_type": "code",
    "id": "lFhkfMdUDFpL"
   },
   "outputs": [],
   "source": [
    "static_avg_behav = spending_behavior.select(F.mean('Activity'), F.mean('Cash'), F.mean('Event'), F.mean('Food'),\n",
    "                         F.mean('IllegalSarcasm'), F.mean('No category'), F.mean('People'), F.mean('Travel'),\n",
    "                         F.mean('Transportation'), F.mean('Utility')).toPandas()"
   ]
  },
  {
   "cell_type": "code",
   "execution_count": 116,
   "metadata": {
    "colab": {},
    "colab_type": "code",
    "id": "wh9ia9enDFpM",
    "outputId": "3c7b63fd-ea84-4148-910f-57f8126db802"
   },
   "outputs": [
    {
     "data": {
      "text/plain": [
       "[]"
      ]
     },
     "execution_count": 116,
     "metadata": {},
     "output_type": "execute_result"
    },
    {
     "data": {
      "image/png": "[encoded data removed]",
      "text/plain": [
       "<Figure size 432x288 with 1 Axes>"
      ]
     },
     "metadata": {
      "needs_background": "light"
     },
     "output_type": "display_data"
    }
   ],
   "source": [
    "static_behav = static_avg_behav.melt().rename({'variable':'category', 'value':'percentage'}, axis=1)\\\n",
    "               .sort_values('percentage', ascending=False)\n",
    "\n",
    "static_behav['category'] = ['No category','Food', 'People', 'Activity',\n",
    "                            'Utility)', 'Transportation', 'IllegalSarcasm', 'Travel','Event','Cash']\n",
    "\n",
    "sns.barplot(x = 'percentage', y = 'category', data=static_behav)\\\n",
    "   .set(title = \"Average (Static) Spending Behavior Profile\")\n",
    "\n",
    "plt.plot()"
   ]
  },
  {
   "cell_type": "markdown",
   "metadata": {
    "colab_type": "text",
    "id": "NMre5IF7DFpN"
   },
   "source": [
    "# Explore how a user’s spending profile is evolving over his/her lifetime (measured measured by months -- taking up to 12 months here)"
   ]
  },
  {
   "cell_type": "code",
   "execution_count": 64,
   "metadata": {
    "colab": {},
    "colab_type": "code",
    "id": "ISoVjbbwDFpN"
   },
   "outputs": [],
   "source": [
    "overCategory = Window.partitionBy(\"user1\")\n",
    "\n",
    "date_lookup0 = all_user_transactions\\\n",
    "                .withColumn('zero_mark', F.min('datetime').over(overCategory))\\\n",
    "                .withColumn('days_to_zero', F.datediff('datetime','zero_mark'))\\\n",
    "                .withColumn('month', F.ceil(F.column('days_to_zero')/30))\\\n",
    "                .drop('zero_mark', 'days_to_zero')\\\n",
    "                .cache()"
   ]
  },
  {
   "cell_type": "code",
   "execution_count": 66,
   "metadata": {
    "colab": {},
    "colab_type": "code",
    "id": "hXXVOrgeDFpO",
    "outputId": "a609917b-68ae-492e-b198-bf11685497db"
   },
   "outputs": [],
   "source": [
    "# Filter for trasactions that only happens into the first 12 months\n",
    "venmo_time = date_lookup0\\\n",
    "             .select('user1', 'month', 'category')\\\n",
    "             .repartition(F.col(\"month\"),F.col(\"category\"))\\\n",
    "             .filter('month <= 12').cache()"
   ]
  },
  {
   "cell_type": "code",
   "execution_count": 67,
   "metadata": {
    "colab": {},
    "colab_type": "code",
    "id": "XJ-8X7XYDFpQ"
   },
   "outputs": [],
   "source": [
    "# Create count of category by user and month\n",
    "agg_venmo_time = venmo_time\\\n",
    "                .groupBy(['user1', 'month', 'category'])\\\n",
    "                .agg(F.count('category').alias('cat_count'))\\\n",
    "                .repartition(F.col(\"month\"),F.col(\"category\"))\\\n",
    "                .cache()"
   ]
  },
  {
   "cell_type": "code",
   "execution_count": 68,
   "metadata": {
    "colab": {},
    "colab_type": "code",
    "id": "7kY-U_riDFpS"
   },
   "outputs": [],
   "source": [
    "# Temporary to create Blank Data Frame\n",
    "users_vec = venmo_time.select('user1').distinct().cache()\n",
    "months_vec = venmo_time.select('month').distinct().cache()\n",
    "cat_vec = venmo_time.select('category').distinct().cache()"
   ]
  },
  {
   "cell_type": "code",
   "execution_count": 69,
   "metadata": {
    "colab": {},
    "colab_type": "code",
    "id": "iO-LZoORDFpU"
   },
   "outputs": [],
   "source": [
    "# Create temporary DF to collect months\n",
    "blank_venmo_0 = months_vec.crossJoin(cat_vec).repartition(F.col(\"month\"),F.col(\"category\"))\n",
    "blank_venmo = blank_venmo_0.crossJoin(users_vec).cache()"
   ]
  },
  {
   "cell_type": "code",
   "execution_count": 70,
   "metadata": {
    "colab": {},
    "colab_type": "code",
    "id": "m7rNG3hyDFpV"
   },
   "outputs": [],
   "source": [
    "overCategory = Window.orderBy(['user1','category','month'])\\\n",
    "               .partitionBy(\"user1\",'category')\\\n",
    "               .rowsBetween(Window.unboundedPreceding, Window.currentRow)\n",
    "\n",
    "\n",
    "big_venmo = blank_venmo\\\n",
    "            .join(agg_venmo_time, on=['user1', 'month', 'category'], how='left_outer')\\\n",
    "            .repartition(F.col(\"month\"),F.col(\"category\"))\\\n",
    "            .withColumn('cum_count', F.sum('cat_count').over(overCategory))\\\n",
    "            .orderBy('user1','category','month')\\\n",
    "            .fillna(0)\\\n",
    "            .cache()"
   ]
  },
  {
   "cell_type": "code",
   "execution_count": 71,
   "metadata": {
    "colab": {},
    "colab_type": "code",
    "id": "kfQWi41sDFpW",
    "outputId": "03525a6b-dde9-4452-9518-2f12808b8cc9",
    "scrolled": false
   },
   "outputs": [
    {
     "name": "stdout",
     "output_type": "stream",
     "text": [
      "+-----+-----+--------------+---------+---------+\n",
      "|user1|month|      category|cat_count|cum_count|\n",
      "+-----+-----+--------------+---------+---------+\n",
      "|    2|    0|      Activity|        0|        0|\n",
      "|    2|    0|          Cash|        0|        0|\n",
      "|    2|    0|         Event|        0|        0|\n",
      "|    2|    0|          Food|        0|        0|\n",
      "|    2|    0|IllegalSarcasm|        0|        0|\n",
      "|    2|    0|   No category|        1|        1|\n",
      "|    2|    0|        People|        0|        0|\n",
      "|    2|    0|Transportation|        0|        0|\n",
      "|    2|    0|        Travel|        0|        0|\n",
      "|    2|    0|       Utility|        0|        0|\n",
      "|    2|    1|      Activity|        0|        0|\n",
      "|    2|    1|          Cash|        0|        0|\n",
      "|    2|    1|         Event|        0|        0|\n",
      "|    2|    1|          Food|        0|        0|\n",
      "|    2|    1|IllegalSarcasm|        0|        0|\n",
      "|    2|    1|   No category|        0|        1|\n",
      "|    2|    1|        People|        0|        0|\n",
      "|    2|    1|Transportation|        0|        0|\n",
      "|    2|    1|        Travel|        0|        0|\n",
      "|    2|    1|       Utility|        0|        0|\n",
      "|    2|    2|      Activity|        0|        0|\n",
      "|    2|    2|          Cash|        0|        0|\n",
      "|    2|    2|         Event|        0|        0|\n",
      "|    2|    2|          Food|        0|        0|\n",
      "|    2|    2|IllegalSarcasm|        0|        0|\n",
      "|    2|    2|   No category|        0|        1|\n",
      "|    2|    2|        People|        0|        0|\n",
      "|    2|    2|Transportation|        0|        0|\n",
      "|    2|    2|        Travel|        0|        0|\n",
      "|    2|    2|       Utility|        0|        0|\n",
      "|    2|    3|      Activity|        0|        0|\n",
      "|    2|    3|          Cash|        0|        0|\n",
      "|    2|    3|         Event|        0|        0|\n",
      "|    2|    3|          Food|        0|        0|\n",
      "|    2|    3|IllegalSarcasm|        0|        0|\n",
      "|    2|    3|   No category|        0|        1|\n",
      "|    2|    3|        People|        0|        0|\n",
      "|    2|    3|Transportation|        0|        0|\n",
      "|    2|    3|        Travel|        0|        0|\n",
      "|    2|    3|       Utility|        0|        0|\n",
      "+-----+-----+--------------+---------+---------+\n",
      "only showing top 40 rows\n",
      "\n"
     ]
    }
   ],
   "source": [
    "big_venmo.show(15)"
   ]
  },
  {
   "cell_type": "code",
   "execution_count": 72,
   "metadata": {
    "colab": {},
    "colab_type": "code",
    "id": "Y8MSFhZ_DFpX"
   },
   "outputs": [],
   "source": [
    "# Calculate category percentage of transations by user and month\n",
    "overCategory = Window.partitionBy([\"user1\", \"month\"])\n",
    "\n",
    "big_venmo_perc = big_venmo\\\n",
    "                .withColumn(\"monthly_count\",  F.sum(\"cat_count\").over(overCategory))\\\n",
    "                .withColumn(\"percent_count\", F.column(\"cat_count\")/ F.column(\"monthly_count\"))\\\n",
    "                .withColumn(\"monthly_cum_count\",  F.sum(\"cum_count\").over(overCategory))\\\n",
    "                .withColumn(\"percent_cum_count\", F.column(\"cum_count\")/ F.column(\"monthly_cum_count\"))\\\n",
    "                .drop('cat_count','monthly_count', \"cum_count\", \"monthly_cum_count\").fillna(0).cache()"
   ]
  },
  {
   "cell_type": "code",
   "execution_count": 88,
   "metadata": {
    "colab": {},
    "colab_type": "code",
    "id": "XmhPfPBTDFpZ"
   },
   "outputs": [],
   "source": [
    "# big_venmo_perc.repartition(1).write.mode(\"overwrite\").parquet(\"big_venmo_perc.parquet\")"
   ]
  },
  {
   "cell_type": "code",
   "execution_count": 74,
   "metadata": {
    "colab": {},
    "colab_type": "code",
    "id": "YbKgCu6jDFpb"
   },
   "outputs": [],
   "source": [
    "# Aggregate by month and category: average user\n",
    "agg_venmo = big_venmo_perc.groupBy(['month', 'category'])\\\n",
    "            .agg(\n",
    "                 F.round(F.mean('percent_count'),3).alias('mean_percent'), \n",
    "                 F.round(F.stddev('percent_count'),3).alias('std_percent'),\n",
    "                 F.round(F.mean('percent_cum_count'),3).alias('mean_percent_cum'), \n",
    "                 F.round(F.stddev('percent_cum_count'),3).alias('std_percent_cum')\n",
    "                ).cache()"
   ]
  },
  {
   "cell_type": "code",
   "execution_count": 75,
   "metadata": {
    "colab": {},
    "colab_type": "code",
    "id": "PqFe0yS4DFpc",
    "outputId": "96697226-ccd7-41ff-e7fd-0292dc10e88b"
   },
   "outputs": [
    {
     "name": "stdout",
     "output_type": "stream",
     "text": [
      "+-----+--------+------------+-----------+----------------+---------------+\n",
      "|month|category|mean_percent|std_percent|mean_percent_cum|std_percent_cum|\n",
      "+-----+--------+------------+-----------+----------------+---------------+\n",
      "|    0|Activity|       0.091|      0.287|           0.091|          0.287|\n",
      "|    1|Activity|       0.013|      0.109|           0.091|          0.276|\n",
      "|    2|Activity|       0.011|        0.1|           0.091|          0.268|\n",
      "|    3|Activity|       0.011|      0.097|            0.09|          0.261|\n",
      "|    4|Activity|        0.01|      0.096|            0.09|          0.255|\n",
      "|    5|Activity|        0.01|      0.096|            0.09|          0.249|\n",
      "|    6|Activity|        0.01|      0.095|           0.089|          0.245|\n",
      "|    7|Activity|        0.01|      0.094|           0.089|          0.241|\n",
      "|    8|Activity|        0.01|      0.091|           0.089|          0.237|\n",
      "|    9|Activity|       0.009|      0.088|           0.089|          0.234|\n",
      "|   10|Activity|       0.009|      0.086|           0.088|          0.232|\n",
      "|   11|Activity|       0.008|      0.084|           0.088|          0.229|\n",
      "|   12|Activity|       0.008|      0.085|           0.088|          0.227|\n",
      "|    0|    Cash|       0.009|      0.092|           0.009|          0.092|\n",
      "|    1|    Cash|       0.001|      0.036|           0.009|          0.088|\n",
      "|    2|    Cash|       0.001|      0.034|           0.009|          0.085|\n",
      "|    3|    Cash|       0.001|      0.033|           0.009|          0.083|\n",
      "|    4|    Cash|       0.001|      0.032|           0.009|          0.081|\n",
      "|    5|    Cash|       0.001|      0.031|           0.009|          0.079|\n",
      "|    6|    Cash|       0.001|      0.031|           0.009|          0.077|\n",
      "+-----+--------+------------+-----------+----------------+---------------+\n",
      "only showing top 20 rows\n",
      "\n"
     ]
    }
   ],
   "source": [
    "agg_venmo.show(15)"
   ]
  },
  {
   "cell_type": "markdown",
   "metadata": {
    "colab_type": "text",
    "id": "z8JmMebDDFpn"
   },
   "source": [
    " After the first use, the average customer will significantly reduce the percentage spend on all categories. Despite not intuitive, this happens because only a fraction of the custmers keeps using Venmo after the first transactions. Since for the churn user the percentage spend on next months are zero, the average moves towards zero. However, as seen on the plots above, this behavior stabilizes from the second month on."
   ]
  },
  {
   "cell_type": "markdown",
   "metadata": {
    "colab_type": "text",
    "id": "eoZFUdimDFpn"
   },
   "source": [
    "# Find a user’s friends and friends of friends ( Friend definition: A user’s friend is someone who has transacted with the user , either sending money to the user or receiving money from the user)."
   ]
  },
  {
   "cell_type": "markdown",
   "metadata": {
    "colab_type": "text",
    "id": "KjBICoPvDFpn"
   },
   "source": [
    "## Full Lifetime Friends\n",
    "This section finds a user's list of friends and friends of friends from his/her entire lifetime. There is another section below that shows the user's list of friends by each month of his/her lifetime."
   ]
  },
  {
   "cell_type": "code",
   "execution_count": 0,
   "metadata": {
    "colab": {},
    "colab_type": "code",
    "id": "xRi5eJzEDFpo"
   },
   "outputs": [],
   "source": [
    "all_transactions = spark.sql(\"\"\"\n",
    "  SELECT t1.user1, t1.user2\n",
    "    FROM user_table1 t1\n",
    "    UNION\n",
    "  SELECT t2.user2 as user1, t2.user1 as user2\n",
    "  FROM user_table1 t2\n",
    "  \"\"\")"
   ]
  },
  {
   "cell_type": "code",
   "execution_count": 0,
   "metadata": {
    "colab": {},
    "colab_type": "code",
    "id": "UJpcYgNrDFpp",
    "outputId": "b1025378-78c0-427f-fd94-08ee133f54a6"
   },
   "outputs": [
    {
     "name": "stdout",
     "output_type": "stream",
     "text": [
      "9995562\n"
     ]
    }
   ],
   "source": [
    "# count is less than 14 mil because UNION removes duplicate rows\n",
    "print(all_transactions.count())"
   ]
  },
  {
   "cell_type": "code",
   "execution_count": 0,
   "metadata": {
    "colab": {},
    "colab_type": "code",
    "id": "qXwfYzhdDFpq"
   },
   "outputs": [],
   "source": [
    "# gather direct friends into set\n",
    "friends = all_transactions.groupby('user1').agg(F.collect_set(\"user2\").alias('friend_set'))"
   ]
  },
  {
   "cell_type": "code",
   "execution_count": 0,
   "metadata": {
    "colab": {},
    "colab_type": "code",
    "id": "Mtq91qHeDFpt"
   },
   "outputs": [],
   "source": [
    "all_transactions.createOrReplaceTempView('all_users')"
   ]
  },
  {
   "cell_type": "code",
   "execution_count": 0,
   "metadata": {
    "colab": {},
    "colab_type": "code",
    "id": "mUWb6XegDFpv"
   },
   "outputs": [],
   "source": [
    "# self join to get friends of friends\n",
    "joined_users = spark.sql(\"\"\"\n",
    "SELECT t1.user1, t2.user2 AS friend_of_friend\n",
    "FROM all_users t1\n",
    "FULL OUTER JOIN all_users t2 on t1.user2 = t2.user1\"\"\")"
   ]
  },
  {
   "cell_type": "code",
   "execution_count": 0,
   "metadata": {
    "colab": {},
    "colab_type": "code",
    "id": "mw6a-vS5DFpw"
   },
   "outputs": [],
   "source": [
    "# gather friends of friends into set\n",
    "f_of_f = joined_users.groupby('user1').agg(F.collect_set(\"friend_of_friend\").alias('friend_of_friend'))"
   ]
  },
  {
   "cell_type": "code",
   "execution_count": 0,
   "metadata": {
    "colab": {},
    "colab_type": "code",
    "id": "L9FJoLx4DFpx"
   },
   "outputs": [],
   "source": [
    "friends = friends.cache()\n",
    "f_of_f = f_of_f.cache()"
   ]
  },
  {
   "cell_type": "code",
   "execution_count": 0,
   "metadata": {
    "colab": {},
    "colab_type": "code",
    "id": "xJ8aPmPiDFpz",
    "outputId": "4e11fc07-62c3-4427-f02d-709dad30a9e5"
   },
   "outputs": [
    {
     "name": "stdout",
     "output_type": "stream",
     "text": [
      "+-----+--------------------------------------------------------------------------------------------------------------------------------------------------------------------------------------------------------+\n",
      "|user1|friend_set                                                                                                                                                                                              |\n",
      "+-----+--------------------------------------------------------------------------------------------------------------------------------------------------------------------------------------------------------+\n",
      "|2    |[220, 191142, 43]                                                                                                                                                                                       |\n",
      "|3    |[52, 1079020, 263437, 43, 567957, 7854140, 2382556, 1204190]                                                                                                                                            |\n",
      "|4    |[122744, 9271982, 125755, 187560, 221578, 968271, 125527]                                                                                                                                               |\n",
      "|6    |[4330489, 688883, 676003]                                                                                                                                                                               |\n",
      "|8    |[900433, 659067]                                                                                                                                                                                        |\n",
      "|9    |[185494, 367955, 243, 755956]                                                                                                                                                                           |\n",
      "|10   |[255, 13, 36523, 71056, 133032, 3844713, 43]                                                                                                                                                            |\n",
      "|11   |[149919, 6419, 52182, 148622, 118445, 133784, 171286, 60183, 51792, 50225, 29833, 183628, 27351, 862680, 273709, 42, 275, 57391, 41798, 160300, 179458, 54724, 146271, 119906, 13, 39917, 146274, 49778]|\n",
      "|12   |[135778, 221813, 156, 746556, 1742822, 112, 295034, 26675, 326885]                                                                                                                                      |\n",
      "|13   |[126820, 212813, 760161, 160206, 128281, 1941801, 10, 11, 64257, 3548, 717721, 58471, 149829, 1603, 699146, 55280, 4767862, 1875863]                                                                    |\n",
      "+-----+--------------------------------------------------------------------------------------------------------------------------------------------------------------------------------------------------------+\n",
      "only showing top 10 rows\n",
      "\n"
     ]
    }
   ],
   "source": [
    "friends.orderBy('user1').show(10, False)"
   ]
  },
  {
   "cell_type": "code",
   "execution_count": 0,
   "metadata": {
    "colab": {},
    "colab_type": "code",
    "id": "9LzoUElIDFp0",
    "outputId": "369b17ea-e968-46cc-fa96-755a9a316111"
   },
   "outputs": [
    {
     "name": "stdout",
     "output_type": "stream",
     "text": [
      "+-----+--------------------+\n",
      "|user1|    friend_of_friend|\n",
      "+-----+--------------------+\n",
      "|    2|[49778, 3565, 892...|\n",
      "|    3|[263468, 277545, ...|\n",
      "|    4|[114204, 3247825,...|\n",
      "|    6|[6190225, 1047359...|\n",
      "|    8|[2734056, 6573431...|\n",
      "|    9|[2822812, 2667704...|\n",
      "|   10|[189467, 126820, ...|\n",
      "|   11|[265225, 5517890,...|\n",
      "|   12|[459250, 292151, ...|\n",
      "|   13|[149919, 6419, 26...|\n",
      "+-----+--------------------+\n",
      "only showing top 10 rows\n",
      "\n"
     ]
    }
   ],
   "source": [
    "f_of_f.orderBy('user1').show(10)"
   ]
  },
  {
   "cell_type": "code",
   "execution_count": 0,
   "metadata": {
    "colab": {},
    "colab_type": "code",
    "id": "78m-pCTBDFp1",
    "outputId": "ed597f11-9aba-4c1d-ba1a-a2a2f46d9013"
   },
   "outputs": [
    {
     "name": "stdout",
     "output_type": "stream",
     "text": [
      "+-----+--------------------------------------+\n",
      "|user1|friend_of_friend                      |\n",
      "+-----+--------------------------------------+\n",
      "|8    |[2734056, 6573431, 704469, 1234370, 8]|\n",
      "+-----+--------------------------------------+\n",
      "\n"
     ]
    }
   ],
   "source": [
    "# show friends of friends of user 8\n",
    "row = f_of_f.where(f_of_f.user1 == 8)\n",
    "row.show(10, False)"
   ]
  },
  {
   "cell_type": "code",
   "execution_count": 0,
   "metadata": {
    "colab": {},
    "colab_type": "code",
    "id": "Npy_F_KYDFp2",
    "outputId": "d256d941-6b06-41b1-c2d2-c62efaaa7ed0"
   },
   "outputs": [
    {
     "name": "stdout",
     "output_type": "stream",
     "text": [
      "+------+-----------------------------+\n",
      "|user1 |friend_set                   |\n",
      "+------+-----------------------------+\n",
      "|659067|[6573431, 8]                 |\n",
      "|900433|[2734056, 704469, 1234370, 8]|\n",
      "+------+-----------------------------+\n",
      "\n"
     ]
    }
   ],
   "source": [
    "# show direct friends of user 8's 2 direct friends: 900433 and 659067\n",
    "# output of this should be the same as above\n",
    "row = friends.where((friends.user1 == 900433) | (friends.user1 == 659067))\n",
    "row.show(10, False)"
   ]
  },
  {
   "cell_type": "code",
   "execution_count": 0,
   "metadata": {
    "colab": {},
    "colab_type": "code",
    "id": "96CyotRCDFp3"
   },
   "outputs": [],
   "source": [
    "joined_users = joined_users.cache()"
   ]
  },
  {
   "cell_type": "code",
   "execution_count": 0,
   "metadata": {
    "colab": {},
    "colab_type": "code",
    "id": "GTSfxGemDFp4"
   },
   "outputs": [],
   "source": [
    "# create udf to remove self from friend of friend list\n",
    "@udf(returnType=ArrayType(IntegerType()))\n",
    "def remove_user(friend_list,user1):\n",
    "    filtered_list = [x for x in friend_list if x != user1]\n",
    "    return filtered_list"
   ]
  },
  {
   "cell_type": "code",
   "execution_count": 0,
   "metadata": {
    "colab": {},
    "colab_type": "code",
    "id": "14FBhSGADFp5"
   },
   "outputs": [],
   "source": [
    "# remove self from friend of friend list\n",
    "f_of_f2 = f_of_f.withColumn(\"friend_of_friend_adj\",remove_user(col(\"friend_of_friend\"),col(\"user1\")))  \n",
    "f_of_f2 = f_of_f2.cache()"
   ]
  },
  {
   "cell_type": "code",
   "execution_count": 0,
   "metadata": {
    "colab": {},
    "colab_type": "code",
    "id": "bElRL2idDFp6",
    "outputId": "390021f8-0f97-4463-f0c4-af1258f5fe7a"
   },
   "outputs": [
    {
     "name": "stdout",
     "output_type": "stream",
     "text": [
      "+-----+--------------------------------------+-----------------------------------+\n",
      "|user1|friend_of_friend                      |friend_of_friend_adj               |\n",
      "+-----+--------------------------------------+-----------------------------------+\n",
      "|8    |[2734056, 6573431, 704469, 1234370, 8]|[2734056, 6573431, 704469, 1234370]|\n",
      "+-----+--------------------------------------+-----------------------------------+\n",
      "\n"
     ]
    }
   ],
   "source": [
    "row = f_of_f2.where(f_of_f2.user1 == 8)\n",
    "row.show(10, False)"
   ]
  },
  {
   "cell_type": "code",
   "execution_count": 0,
   "metadata": {
    "colab": {},
    "colab_type": "code",
    "id": "oy21jXzoDFp8"
   },
   "outputs": [],
   "source": [
    "f_of_f2 = f_of_f2.drop('friend_of_friend')"
   ]
  },
  {
   "cell_type": "code",
   "execution_count": 0,
   "metadata": {
    "colab": {},
    "colab_type": "code",
    "id": "IYFmp0b2DFp9"
   },
   "outputs": [],
   "source": [
    "friends.createOrReplaceTempView('friends')\n",
    "f_of_f2.createOrReplaceTempView('f_of_f')"
   ]
  },
  {
   "cell_type": "code",
   "execution_count": 0,
   "metadata": {
    "colab": {},
    "colab_type": "code",
    "id": "90a-HA_qDFp-"
   },
   "outputs": [],
   "source": [
    "# combine the two new dataframes\n",
    "final_friends = spark.sql(\"\"\"\n",
    "SELECT f1.*, f2.friend_of_friend_adj\n",
    "FROM friends f1\n",
    "INNER JOIN f_of_f f2 on f1.user1 = f2.user1\"\"\")"
   ]
  },
  {
   "cell_type": "code",
   "execution_count": 0,
   "metadata": {
    "colab": {},
    "colab_type": "code",
    "id": "qX3h7gKzDFp_",
    "outputId": "efea75ae-1f79-4428-e424-1a9ee22416d3"
   },
   "outputs": [
    {
     "name": "stdout",
     "output_type": "stream",
     "text": [
      "+-----+--------------------+--------------------+\n",
      "|user1|          friend_set|friend_of_friend_adj|\n",
      "+-----+--------------------+--------------------+\n",
      "|    2|   [220, 191142, 43]|[49778, 3565, 892...|\n",
      "|    3|[52, 1079020, 263...|[263468, 277545, ...|\n",
      "|    4|[122744, 9271982,...|[114204, 3247825,...|\n",
      "|    6|[4330489, 688883,...|[6190225, 1047359...|\n",
      "|    8|    [900433, 659067]|[2734056, 6573431...|\n",
      "|    9|[185494, 367955, ...|[2822812, 2667704...|\n",
      "|   10|[255, 13, 36523, ...|[189467, 126820, ...|\n",
      "|   11|[149919, 6419, 52...|[265225, 5517890,...|\n",
      "|   12|[135778, 221813, ...|[459250, 292151, ...|\n",
      "|   13|[126820, 212813, ...|[149919, 6419, 26...|\n",
      "+-----+--------------------+--------------------+\n",
      "only showing top 10 rows\n",
      "\n"
     ]
    }
   ],
   "source": [
    "final_friends = final_friends.cache()\n",
    "final_friends.orderBy('user1').show(10)"
   ]
  },
  {
   "cell_type": "code",
   "execution_count": 0,
   "metadata": {
    "colab": {},
    "colab_type": "code",
    "id": "AnikPhjCDFqB"
   },
   "outputs": [],
   "source": [
    "# get the counts of friends and friends of friends\n",
    "from pyspark.sql.functions import size\n",
    "\n",
    "friends_with_count = final_friends.select('*',size('friend_set').alias('num_friends'))\n",
    "friends_with_count = friends_with_count.select('*',size('friend_of_friend_adj').alias('num_f_of_f'))"
   ]
  },
  {
   "cell_type": "code",
   "execution_count": 0,
   "metadata": {
    "colab": {},
    "colab_type": "code",
    "id": "nge-7ONjDFqC",
    "outputId": "f642c654-fb01-46ef-97d4-8d8ddf75d18a"
   },
   "outputs": [
    {
     "name": "stdout",
     "output_type": "stream",
     "text": [
      "+-----+--------------------+--------------------+-----------+----------+\n",
      "|user1|          friend_set|friend_of_friend_adj|num_friends|num_f_of_f|\n",
      "+-----+--------------------+--------------------+-----------+----------+\n",
      "|    2|   [220, 191142, 43]|[49778, 3565, 892...|          3|        22|\n",
      "|    3|[52, 1079020, 263...|[263468, 277545, ...|          8|        70|\n",
      "|    4|[122744, 9271982,...|[114204, 3247825,...|          7|         8|\n",
      "|    6|[4330489, 688883,...|[6190225, 1047359...|          3|        13|\n",
      "|    8|    [900433, 659067]|[2734056, 6573431...|          2|         4|\n",
      "|    9|[185494, 367955, ...|[2822812, 2667704...|          4|        67|\n",
      "|   10|[255, 13, 36523, ...|[189467, 126820, ...|          7|        45|\n",
      "|   11|[149919, 6419, 52...|[265225, 5517890,...|         28|       238|\n",
      "|   12|[135778, 221813, ...|[459250, 292151, ...|          9|        37|\n",
      "|   13|[126820, 212813, ...|[149919, 6419, 26...|         18|        92|\n",
      "+-----+--------------------+--------------------+-----------+----------+\n",
      "only showing top 10 rows\n",
      "\n"
     ]
    }
   ],
   "source": [
    "friends_with_count = friends_with_count.cache()\n",
    "friends_with_count.orderBy('user1').show(10)"
   ]
  },
  {
   "cell_type": "markdown",
   "metadata": {
    "colab_type": "text",
    "id": "skDO0ceBDFqG"
   },
   "source": [
    "## Lifetime by Month Friends"
   ]
  },
  {
   "cell_type": "code",
   "execution_count": 0,
   "metadata": {
    "colab": {},
    "colab_type": "code",
    "id": "KXe-e0AdDFqH"
   },
   "outputs": [],
   "source": [
    "date_lookup = date_lookup0\\\n",
    "             .select('user1', 'user2', 'datetime', F.col('month').alias('month_user1'))\\\n",
    "             .repartition(F.col(\"month_user1\"))\\\n",
    "             .cache()\n"
   ]
  },
  {
   "cell_type": "code",
   "execution_count": 0,
   "metadata": {
    "colab": {},
    "colab_type": "code",
    "id": "G33YcmtbDFqI",
    "outputId": "490948ff-7176-4c78-e2aa-2a5fdb4f8734"
   },
   "outputs": [
    {
     "name": "stdout",
     "output_type": "stream",
     "text": [
      "+------+-------+-------------------+-----------+\n",
      "| user1|  user2|           datetime|month_user1|\n",
      "+------+-------+-------------------+-----------+\n",
      "| 28759| 581923|2015-04-04 06:39:43|         26|\n",
      "| 65220|  54003|2016-05-22 14:30:05|         26|\n",
      "| 67492|  47721|2016-02-03 01:38:52|         29|\n",
      "| 67492|  46611|2016-01-24 19:26:12|         29|\n",
      "|104064|5428405|2016-01-13 23:13:09|         26|\n",
      "|109622| 561044|2016-05-07 23:58:32|         26|\n",
      "|120706|1003952|2016-09-30 00:13:18|         29|\n",
      "|124861| 167069|2014-09-01 21:51:06|         26|\n",
      "|124861| 167069|2014-11-24 21:53:44|         29|\n",
      "|124967| 276840|2016-09-17 18:58:11|         26|\n",
      "|124967|1743063|2016-09-19 17:43:33|         26|\n",
      "|126365| 196727|2014-09-14 04:04:18|         26|\n",
      "|132318| 104220|2016-04-18 18:14:51|         26|\n",
      "|136625|2872459|2014-11-25 16:33:49|         26|\n",
      "|139535| 481273|2015-01-01 17:25:18|         29|\n",
      "|139535| 141775|2015-01-02 19:36:55|         29|\n",
      "|143737| 388517|2015-03-15 04:04:17|         29|\n",
      "|143737|3813706|2015-03-17 05:12:14|         29|\n",
      "|143737| 249316|2015-01-01 03:25:45|         26|\n",
      "|145007|1546076|2016-06-05 14:09:12|         26|\n",
      "+------+-------+-------------------+-----------+\n",
      "only showing top 20 rows\n",
      "\n"
     ]
    }
   ],
   "source": [
    "date_lookup.show()"
   ]
  },
  {
   "cell_type": "code",
   "execution_count": 0,
   "metadata": {
    "colab": {},
    "colab_type": "code",
    "id": "SrNTp0BTDFqJ",
    "outputId": "e3d2f980-3dea-40ec-fd7b-e68312f53feb"
   },
   "outputs": [
    {
     "data": {
      "text/plain": [
       "14226274"
      ]
     },
     "execution_count": 105,
     "metadata": {
      "tags": []
     },
     "output_type": "execute_result"
    }
   ],
   "source": [
    "date_lookup.count()"
   ]
  },
  {
   "cell_type": "code",
   "execution_count": 0,
   "metadata": {
    "colab": {},
    "colab_type": "code",
    "id": "Oy5CEvG-DFqK"
   },
   "outputs": [],
   "source": [
    "date_lookup.createOrReplaceTempView('date_lookup')"
   ]
  },
  {
   "cell_type": "code",
   "execution_count": 0,
   "metadata": {
    "colab": {},
    "colab_type": "code",
    "id": "7fnDmfMpDFqL"
   },
   "outputs": [],
   "source": [
    "# self join to get user2's month of the transaction\n",
    "# because data is stacked with the original user2 column as user1, there will always be a matching row\n",
    "final_users = spark.sql(\"\"\"\n",
    "  SELECT t1.*, t2.month_user1 AS month_user2\n",
    "    FROM date_lookup t1\n",
    "    JOIN date_lookup t2 ON t1.user2 = t2.user1\n",
    "    AND t1.datetime = t2.datetime\n",
    "  \"\"\")"
   ]
  },
  {
   "cell_type": "code",
   "execution_count": 0,
   "metadata": {
    "colab": {},
    "colab_type": "code",
    "id": "LTHHpffwDFqM",
    "outputId": "eaafe65e-be07-4e89-8f97-b61237f6a9c9"
   },
   "outputs": [
    {
     "data": {
      "text/plain": [
       "14227514"
      ]
     },
     "execution_count": 108,
     "metadata": {
      "tags": []
     },
     "output_type": "execute_result"
    }
   ],
   "source": [
    "final_users.cache()\n",
    "final_users.count()"
   ]
  },
  {
   "cell_type": "code",
   "execution_count": 0,
   "metadata": {
    "colab": {},
    "colab_type": "code",
    "id": "ICq-sG3mDFqN",
    "outputId": "788447bd-6d68-45a4-b042-c7f3d72255d3"
   },
   "outputs": [
    {
     "name": "stdout",
     "output_type": "stream",
     "text": [
      "+-----+-------+-------------------+-----------+-----------+\n",
      "|user1|  user2|           datetime|month_user1|month_user2|\n",
      "+-----+-------+-------------------+-----------+-----------+\n",
      "|    2|     43|2016-09-07 00:53:16|         47|         54|\n",
      "|    2|    220|2012-11-22 22:03:42|          0|          0|\n",
      "|    2| 191142|2016-09-26 02:56:55|         47|         17|\n",
      "|    2|     43|2016-04-09 02:29:31|         42|         49|\n",
      "|    3|     52|2016-09-22 08:30:09|          3|         51|\n",
      "|    3|2382556|2016-10-06 03:49:45|          4|          0|\n",
      "|    3|7854140|2016-10-08 20:36:13|          4|          0|\n",
      "|    3| 567957|2016-10-29 02:28:07|          5|         32|\n",
      "|    3|1079020|2016-10-07 16:37:56|          4|          9|\n",
      "|    3|2382556|2016-10-07 01:50:23|          4|          1|\n",
      "|    3|     43|2016-06-26 18:14:37|          0|         52|\n",
      "|    3|1204190|2016-10-08 18:56:24|          4|         24|\n",
      "|    3| 263437|2016-07-22 14:16:37|          1|         40|\n",
      "|    4| 187560|2015-06-17 02:23:30|         31|         13|\n",
      "|    4|9271982|2016-03-03 04:45:57|         40|          0|\n",
      "|    4| 221578|2016-04-16 20:35:09|         42|         30|\n",
      "|    4| 125527|2012-12-14 21:51:12|          1|          1|\n",
      "|    4| 125755|2013-01-04 02:20:36|          2|          0|\n",
      "|    4| 125527|2012-12-10 02:27:55|          1|          0|\n",
      "|    4| 122744|2012-12-02 19:35:53|          0|          0|\n",
      "+-----+-------+-------------------+-----------+-----------+\n",
      "only showing top 20 rows\n",
      "\n"
     ]
    }
   ],
   "source": [
    "final_users.orderBy('user1').show()"
   ]
  },
  {
   "cell_type": "code",
   "execution_count": 0,
   "metadata": {
    "colab": {},
    "colab_type": "code",
    "id": "mbhcYPN9DFqO"
   },
   "outputs": [],
   "source": [
    "# gather friends by user and month to get direct friends\n",
    "friends = final_users.groupby('user1', 'month_user1').agg(F.collect_set(\"user2\").alias('friend_set')).cache()"
   ]
  },
  {
   "cell_type": "code",
   "execution_count": 0,
   "metadata": {
    "colab": {},
    "colab_type": "code",
    "id": "31B-h8n6DFqP",
    "outputId": "6723ff23-c3dc-4bb9-fc48-1b98e86dd264"
   },
   "outputs": [
    {
     "name": "stdout",
     "output_type": "stream",
     "text": [
      "+-----+-----------+--------------------+\n",
      "|user1|month_user1|          friend_set|\n",
      "+-----+-----------+--------------------+\n",
      "|    2|          0|               [220]|\n",
      "|    2|         42|                [43]|\n",
      "|    2|         47|        [191142, 43]|\n",
      "|    3|          0|                [43]|\n",
      "|    3|          1|            [263437]|\n",
      "|    3|          3|                [52]|\n",
      "|    3|          4|[1079020, 7854140...|\n",
      "|    3|          5|            [567957]|\n",
      "|    4|          0|            [122744]|\n",
      "|    4|          1|            [125527]|\n",
      "|    4|          2|            [125755]|\n",
      "|    4|         15|            [968271]|\n",
      "|    4|         31|            [187560]|\n",
      "|    4|         40|           [9271982]|\n",
      "|    4|         42|            [221578]|\n",
      "|    6|          0|            [676003]|\n",
      "|    6|         10|           [4330489]|\n",
      "|    6|         15|            [676003]|\n",
      "|    6|         23|            [688883]|\n",
      "|    8|          0|            [900433]|\n",
      "+-----+-----------+--------------------+\n",
      "only showing top 20 rows\n",
      "\n"
     ]
    }
   ],
   "source": [
    "friends.orderBy('user1', 'month_user1').show()"
   ]
  },
  {
   "cell_type": "code",
   "execution_count": 0,
   "metadata": {
    "colab": {},
    "colab_type": "code",
    "id": "KdxlE_3uDFqQ"
   },
   "outputs": [],
   "source": [
    "final_users.createOrReplaceTempView('final_users')"
   ]
  },
  {
   "cell_type": "code",
   "execution_count": 0,
   "metadata": {
    "colab": {},
    "colab_type": "code",
    "id": "ACqveyNeDFqR"
   },
   "outputs": [],
   "source": [
    "# self join to get friends of friends\n",
    "# join also on month_user1 = month_user2 to only get user2's friends in the same month as the transaction\n",
    "joined_users = spark.sql(\"\"\"\n",
    "SELECT t1.user1, t2.user2 AS friend_of_friend, t1.month_user1\n",
    "FROM final_users t1\n",
    "FULL OUTER JOIN final_users t2 on t1.user2 = t2.user1\n",
    "AND t2.month_user1 = t1.month_user2\"\"\")"
   ]
  },
  {
   "cell_type": "code",
   "execution_count": 0,
   "metadata": {
    "colab": {},
    "colab_type": "code",
    "id": "wFFrr8QDDFqS"
   },
   "outputs": [],
   "source": [
    "# gather friends of friends into set\n",
    "f_of_f = joined_users.groupby('user1', 'month_user1')\\\n",
    "         .agg(F.collect_set(\"friend_of_friend\").alias('friend_of_friend'))"
   ]
  },
  {
   "cell_type": "code",
   "execution_count": 0,
   "metadata": {
    "colab": {},
    "colab_type": "code",
    "id": "hRteRcpBDFqU"
   },
   "outputs": [],
   "source": [
    "# create udf to remove self from friend of friend list\n",
    "@udf(returnType=ArrayType(IntegerType()))\n",
    "def remove_user(friend_list,user1):\n",
    "    filtered_list = [x for x in friend_list if x != user1]\n",
    "    return filtered_list"
   ]
  },
  {
   "cell_type": "code",
   "execution_count": 0,
   "metadata": {
    "colab": {},
    "colab_type": "code",
    "id": "Yg8KX8csDFqV"
   },
   "outputs": [],
   "source": [
    "# remove self from friend of friend list  AND limite month_user1 up to 12 months only\n",
    "f_of_f = f_of_f\\\n",
    "            .withColumn(\"friend_of_friend_adj\",remove_user(col(\"friend_of_friend\"),col(\"user1\")))\\\n",
    "            .filter(\"month_user1 <= 12\")\\\n",
    "            .cache()"
   ]
  },
  {
   "cell_type": "code",
   "execution_count": 0,
   "metadata": {
    "colab": {},
    "colab_type": "code",
    "id": "jkAl-lTnDFqW",
    "outputId": "f2efe5f7-06e8-4368-b332-a3058bee5eaa"
   },
   "outputs": [
    {
     "name": "stdout",
     "output_type": "stream",
     "text": [
      "+-----+-----------+----------------+--------------------+\n",
      "|user1|month_user1|friend_of_friend|friend_of_friend_adj|\n",
      "+-----+-----------+----------------+--------------------+\n",
      "|    2|          0|             [2]|                  []|\n",
      "|    3|          0|             [3]|                  []|\n",
      "|    3|          1|             [3]|                  []|\n",
      "|    3|          3|             [3]|                  []|\n",
      "|    3|          4|             [3]|                  []|\n",
      "|    3|          5|             [3]|                  []|\n",
      "|    4|          0|             [4]|                  []|\n",
      "|    4|          1|             [4]|                  []|\n",
      "|    4|          2|             [4]|                  []|\n",
      "|    6|          0|             [6]|                  []|\n",
      "|    6|         10|             [6]|                  []|\n",
      "|    8|          0|             [8]|                  []|\n",
      "|    8|          2|    [2734056, 8]|           [2734056]|\n",
      "|    8|          7|             [8]|                  []|\n",
      "|    8|          9|             [8]|                  []|\n",
      "|    8|         10|     [704469, 8]|            [704469]|\n",
      "|    9|          0|             [9]|                  []|\n",
      "|    9|          2|             [9]|                  []|\n",
      "|    9|          5|             [9]|                  []|\n",
      "|    9|          7|             [9]|                  []|\n",
      "+-----+-----------+----------------+--------------------+\n",
      "only showing top 20 rows\n",
      "\n"
     ]
    }
   ],
   "source": [
    "f_of_f.orderBy('user1', 'month_user1').show()"
   ]
  },
  {
   "cell_type": "markdown",
   "metadata": {
    "colab_type": "text",
    "id": "y-2C5dGrDFqX"
   },
   "source": [
    "# Social network variables across a user’s lifetime in Venmo (from 0 up to 12 months).\n",
    "\n",
    "##  Number of friends and number of friends of friends "
   ]
  },
  {
   "cell_type": "code",
   "execution_count": 0,
   "metadata": {
    "colab": {},
    "colab_type": "code",
    "id": "ZbNH56xrDFqX"
   },
   "outputs": [],
   "source": [
    "friends.createOrReplaceTempView('friends')\n",
    "f_of_f.createOrReplaceTempView('f_of_f')\n",
    "\n",
    "# combine the two new dataframes\n",
    "final_friends = spark.sql(\"\"\"\n",
    "SELECT f1.*, f2.friend_of_friend_adj\n",
    "FROM friends f1\n",
    "INNER JOIN f_of_f f2 on f1.user1 = f2.user1\n",
    "AND f1.month_user1 = f2.month_user1\"\"\")"
   ]
  },
  {
   "cell_type": "code",
   "execution_count": 0,
   "metadata": {
    "colab": {},
    "colab_type": "code",
    "id": "qu3OcwpMDFqY"
   },
   "outputs": [],
   "source": [
    "# get the counts of friends and friends of friends\n",
    "from pyspark.sql.functions import size\n",
    "\n",
    "friends_with_count = final_friends.select('*',size('friend_set').alias('num_friends'))\n",
    "friends_with_count = friends_with_count.select('*',size('friend_of_friend_adj').alias('num_f_of_f')).cache()"
   ]
  },
  {
   "cell_type": "code",
   "execution_count": 0,
   "metadata": {
    "colab": {},
    "colab_type": "code",
    "id": "kUPVij_RDFqZ",
    "outputId": "5d79f9f8-6bcd-47d1-af29-4c345961b21f"
   },
   "outputs": [
    {
     "name": "stdout",
     "output_type": "stream",
     "text": [
      "+-----+-----------+--------------------+--------------------+-----------+----------+\n",
      "|user1|month_user1|          friend_set|friend_of_friend_adj|num_friends|num_f_of_f|\n",
      "+-----+-----------+--------------------+--------------------+-----------+----------+\n",
      "|    2|          0|               [220]|                  []|          1|         0|\n",
      "|    3|          0|                [43]|                  []|          1|         0|\n",
      "|    3|          1|            [263437]|                  []|          1|         0|\n",
      "|    3|          3|                [52]|                  []|          1|         0|\n",
      "|    3|          4|[1079020, 7854140...|                  []|          4|         0|\n",
      "|    3|          5|            [567957]|                  []|          1|         0|\n",
      "|    4|          0|            [122744]|                  []|          1|         0|\n",
      "|    4|          1|            [125527]|                  []|          1|         0|\n",
      "|    4|          2|            [125755]|                  []|          1|         0|\n",
      "|    6|          0|            [676003]|                  []|          1|         0|\n",
      "|    6|         10|           [4330489]|                  []|          1|         0|\n",
      "|    8|          0|            [900433]|                  []|          1|         0|\n",
      "|    8|          2|            [900433]|           [2734056]|          1|         1|\n",
      "|    8|          7|    [900433, 659067]|                  []|          2|         0|\n",
      "|    8|          9|            [900433]|                  []|          1|         0|\n",
      "|    8|         10|            [900433]|            [704469]|          1|         1|\n",
      "|    9|          0|               [243]|                  []|          1|         0|\n",
      "|    9|          2|               [243]|                  []|          1|         0|\n",
      "|    9|          5|               [243]|                  []|          1|         0|\n",
      "|    9|          7|               [243]|                  []|          1|         0|\n",
      "+-----+-----------+--------------------+--------------------+-----------+----------+\n",
      "only showing top 20 rows\n",
      "\n"
     ]
    }
   ],
   "source": [
    "friends_with_count.orderBy('user1', 'month_user1').show()"
   ]
  },
  {
   "cell_type": "markdown",
   "metadata": {
    "colab_type": "text",
    "id": "hETq0qrkDFqa"
   },
   "source": [
    "## Clustering coefficient of a user's network.  "
   ]
  },
  {
   "cell_type": "code",
   "execution_count": 0,
   "metadata": {
    "colab": {},
    "colab_type": "code",
    "id": "oW5Vye3EDFqa"
   },
   "outputs": [],
   "source": [
    "from graphframes import *"
   ]
  },
  {
   "cell_type": "code",
   "execution_count": 0,
   "metadata": {
    "colab": {},
    "colab_type": "code",
    "id": "YZb7oV8MDFqb",
    "outputId": "32fc5b7b-e45f-424e-ede1-4a27d8d4e64b"
   },
   "outputs": [
    {
     "data": {
      "text/plain": [
       "3018657"
      ]
     },
     "execution_count": 125,
     "metadata": {
      "tags": []
     },
     "output_type": "execute_result"
    }
   ],
   "source": [
    "vertices = friends_with_count.select(col('user1').alias('id')).distinct()\n",
    "vertices.count()"
   ]
  },
  {
   "cell_type": "code",
   "execution_count": 0,
   "metadata": {
    "colab": {},
    "colab_type": "code",
    "id": "wzKYEAofDFqd",
    "outputId": "0af90e15-226e-4bd2-bf36-a34822c11a87"
   },
   "outputs": [
    {
     "data": {
      "text/plain": [
       "7113137"
      ]
     },
     "execution_count": 126,
     "metadata": {
      "tags": []
     },
     "output_type": "execute_result"
    }
   ],
   "source": [
    "edges = venmo_df.select(col('user1').alias('src'), col('user2').alias('dst'))\n",
    "edges.count()"
   ]
  },
  {
   "cell_type": "code",
   "execution_count": 0,
   "metadata": {
    "colab": {},
    "colab_type": "code",
    "id": "Lj0eBn-tDFqe"
   },
   "outputs": [],
   "source": [
    "g = GraphFrame(vertices, edges)"
   ]
  },
  {
   "cell_type": "code",
   "execution_count": 0,
   "metadata": {
    "colab": {},
    "colab_type": "code",
    "id": "JFL2mlG4DFqf"
   },
   "outputs": [],
   "source": [
    "triangles = g.triangleCount()"
   ]
  },
  {
   "cell_type": "code",
   "execution_count": 0,
   "metadata": {
    "colab": {},
    "colab_type": "code",
    "id": "4qwhv1WVDFqg"
   },
   "outputs": [],
   "source": [
    "triangles.createOrReplaceTempView('triangles')\n",
    "friends_with_count.createOrReplaceTempView('friends_with_count')\n",
    "\n",
    "coeff = spark.sql(\"\"\"\n",
    "select t.*, fwc.num_friends\n",
    "from triangles t join\n",
    "friends_with_count fwc\n",
    "on t.id = fwc.user1\n",
    "\"\"\")"
   ]
  },
  {
   "cell_type": "code",
   "execution_count": 0,
   "metadata": {
    "colab": {},
    "colab_type": "code",
    "id": "OxYn5FtVDFqh"
   },
   "outputs": [],
   "source": [
    "@udf(returnType=FloatType())\n",
    "def cluster_coeff(count,num_friends):\n",
    "    if(num_friends>1):\n",
    "        cluster_coefficient = (2*count)/(num_friends*(num_friends-1))\n",
    "    else:\n",
    "        cluster_coefficient = None\n",
    "    return cluster_coefficient"
   ]
  },
  {
   "cell_type": "code",
   "execution_count": 0,
   "metadata": {
    "colab": {},
    "colab_type": "code",
    "id": "iJpifsZpDFqh"
   },
   "outputs": [],
   "source": [
    "final_coeff = coeff.withColumn(\"cluster_coefficient\",cluster_coeff(col(\"count\"),col(\"num_friends\"))) "
   ]
  },
  {
   "cell_type": "code",
   "execution_count": 0,
   "metadata": {
    "colab": {},
    "colab_type": "code",
    "id": "Vg7Wi1dMDFqi",
    "outputId": "3d46d78d-ce3a-4313-ebab-e8744a24e8d5"
   },
   "outputs": [
    {
     "name": "stdout",
     "output_type": "stream",
     "text": [
      "+-----+-------+-----------+-------------------+\n",
      "|count|     id|num_friends|cluster_coefficient|\n",
      "+-----+-------+-----------+-------------------+\n",
      "|  308|1008557|          2|              308.0|\n",
      "|  308|1008557|          2|              308.0|\n",
      "|  308|1008557|          2|              308.0|\n",
      "|  308|1008557|          2|              308.0|\n",
      "|  225|6124447|          2|              225.0|\n",
      "|  213| 206476|          2|              213.0|\n",
      "|  213| 206476|          2|              213.0|\n",
      "|  213| 206476|          2|              213.0|\n",
      "|  213| 206476|          2|              213.0|\n",
      "|  213| 294580|          2|              213.0|\n",
      "|  208|5579336|          2|              208.0|\n",
      "|  186|2069464|          2|              186.0|\n",
      "|  184| 584647|          2|              184.0|\n",
      "|  184| 584647|          2|              184.0|\n",
      "|  184| 584647|          2|              184.0|\n",
      "|  184| 584647|          2|              184.0|\n",
      "|  184| 584647|          2|              184.0|\n",
      "|  176|1141808|          2|              176.0|\n",
      "|  175|2110559|          2|              175.0|\n",
      "|  172|2510426|          2|              172.0|\n",
      "+-----+-------+-----------+-------------------+\n",
      "only showing top 20 rows\n",
      "\n"
     ]
    }
   ],
   "source": [
    "final_coeff.orderBy(desc('cluster_coefficient'),'id').show()"
   ]
  },
  {
   "cell_type": "code",
   "execution_count": 0,
   "metadata": {
    "colab": {},
    "colab_type": "code",
    "id": "jSoCnruEDFqj"
   },
   "outputs": [],
   "source": [
    "user_and_month = final_users.select(concat_ws(',', col('user1'),col('month_user1')).alias('id')).distinct()"
   ]
  },
  {
   "cell_type": "code",
   "execution_count": 0,
   "metadata": {
    "colab": {},
    "colab_type": "code",
    "id": "xICo9w6aDFqm"
   },
   "outputs": [],
   "source": [
    "overCategory = Window.partitionBy(\"user1\")\n",
    "\n",
    "users_w_date = venmo_df.select('user1', 'user2', 'datetime')\n",
    "users_w_date.createOrReplaceTempView('user_w_date')\n",
    "users_month = users_w_date\\\n",
    "             .withColumn('zero_mark', F.min('datetime').over(overCategory))\\\n",
    "             .withColumn('days_to_zero', F.datediff('datetime','zero_mark'))\\\n",
    "             .withColumn('month_user1', F.ceil(F.column('days_to_zero')/30))\\\n",
    "             .drop('zero_mark', 'days_to_zero')\\\n",
    "             .repartition(F.col(\"month_user1\"))\n",
    "\n",
    "switched_users = spark.sql(\"\"\"\n",
    "SELECT t2.user2 as user1, t2.user1 as user2, t2.datetime\n",
    "  FROM user_w_date t2\n",
    "  \"\"\")\n",
    "\n",
    "switched_users_month = switched_users\\\n",
    "             .withColumn('zero_mark', F.min('datetime').over(overCategory))\\\n",
    "             .withColumn('days_to_zero', F.datediff('datetime','zero_mark'))\\\n",
    "             .withColumn('month_user2', F.ceil(F.column('days_to_zero')/30))\\\n",
    "             .drop('zero_mark', 'days_to_zero')\\\n",
    "             .repartition(F.col(\"month_user2\"))\n",
    "\n",
    "users_month.createOrReplaceTempView('users_month')\n",
    "switched_users_month.createOrReplaceTempView('switched_users')\n",
    "\n",
    "users_all_months = spark.sql(\"\"\"\n",
    "SELECT t1.*, t2.month_user2\n",
    "  FROM users_month t1\n",
    "  JOIN switched_users t2 ON t1.user2 = t2.user1\n",
    "  AND t1.datetime = t2.datetime\n",
    "  \"\"\")\n",
    "\n",
    "edges_w_month = users_all_months.select(concat_ws(',', col('user1'),col('month_user1')).alias('src'),\n",
    "                                  concat_ws(',', col('user2'), col('month_user2')).alias('dst'))"
   ]
  },
  {
   "cell_type": "code",
   "execution_count": 0,
   "metadata": {
    "colab": {},
    "colab_type": "code",
    "id": "6athaeSKDFqn",
    "outputId": "f2fff953-6086-4b72-e4fb-8718d734a61a"
   },
   "outputs": [
    {
     "name": "stdout",
     "output_type": "stream",
     "text": [
      "+----------+--------+\n",
      "|       src|     dst|\n",
      "+----------+--------+\n",
      "|   72106,0|   43,41|\n",
      "| 2338707,3|  243,23|\n",
      "|     43,22|   629,5|\n",
      "| 652113,23|  747,13|\n",
      "|1764714,14|  903,16|\n",
      "| 387953,15| 1162,19|\n",
      "| 462792,10| 1508,24|\n",
      "| 279361,37|  2033,0|\n",
      "| 1532035,0|  3166,7|\n",
      "| 1674820,0|  3200,1|\n",
      "| 884057,14|  4205,1|\n",
      "| 4724583,1|  4541,7|\n",
      "| 1287799,6| 4885,27|\n",
      "| 5140673,0|  5145,0|\n",
      "| 3969230,8|  6213,6|\n",
      "| 1162566,0| 6645,14|\n",
      "|  394195,2| 20012,4|\n",
      "| 1334387,0| 20289,0|\n",
      "| 872722,25|21436,17|\n",
      "|2053719,11| 21768,1|\n",
      "+----------+--------+\n",
      "only showing top 20 rows\n",
      "\n"
     ]
    }
   ],
   "source": [
    "edges_w_month.show()"
   ]
  },
  {
   "cell_type": "code",
   "execution_count": 0,
   "metadata": {
    "colab": {},
    "colab_type": "code",
    "id": "dVeAPHyUDFqo"
   },
   "outputs": [],
   "source": [
    "g2 = GraphFrame(user_and_month, edges_w_month)"
   ]
  },
  {
   "cell_type": "code",
   "execution_count": 0,
   "metadata": {
    "colab": {},
    "colab_type": "code",
    "id": "vy4uxPqADFqp"
   },
   "outputs": [],
   "source": [
    "triangles2 = g2.triangleCount()"
   ]
  },
  {
   "cell_type": "code",
   "execution_count": 0,
   "metadata": {
    "colab": {},
    "colab_type": "code",
    "id": "G7PEujLKDFqq"
   },
   "outputs": [],
   "source": [
    "friends_month = friends_with_count\\\n",
    "                .select(concat_ws(',', col('user1'), 'month_user1').alias('id'), col('num_friends'))"
   ]
  },
  {
   "cell_type": "code",
   "execution_count": 0,
   "metadata": {
    "colab": {},
    "colab_type": "code",
    "id": "L9cWjWYsDFqt"
   },
   "outputs": [],
   "source": [
    "friends_month.createOrReplaceTempView('friends_month')\n",
    "triangles2.createOrReplaceTempView('triangles2')\n",
    "\n",
    "coeff_month = spark.sql(\"\"\"\n",
    "select t.*, fm.num_friends\n",
    "from triangles2 t join\n",
    "friends_month fm\n",
    "on t.id = fm.id\n",
    "\"\"\")"
   ]
  },
  {
   "cell_type": "code",
   "execution_count": 0,
   "metadata": {
    "colab": {},
    "colab_type": "code",
    "id": "wjaa__FeDFqu",
    "outputId": "2e3a371d-3171-4125-af8c-a952c288f7b6"
   },
   "outputs": [
    {
     "name": "stdout",
     "output_type": "stream",
     "text": [
      "+-----+----------+-----------+-------------------+\n",
      "|count|        id|num_friends|cluster_coefficient|\n",
      "+-----+----------+-----------+-------------------+\n",
      "|    0|      10,0|          1|                0.0|\n",
      "|    0|      10,1|          1|                0.0|\n",
      "|    0|     10,10|          1|                0.0|\n",
      "|    0|     10,11|          1|                0.0|\n",
      "|    0|      10,2|          2|                0.0|\n",
      "|    0|      10,4|          2|                0.0|\n",
      "|    0|      10,5|          2|                0.0|\n",
      "|    0|      10,9|          1|                0.0|\n",
      "|    0| 1000002,0|          1|                0.0|\n",
      "|    0|10000027,0|          1|                0.0|\n",
      "|    0|10000054,0|          1|                0.0|\n",
      "|    0|10000054,4|          1|                0.0|\n",
      "|    0| 1000006,0|          1|                0.0|\n",
      "|    0| 1000006,2|          1|                0.0|\n",
      "|    0| 1000006,9|          1|                0.0|\n",
      "|    0| 1000007,0|          1|                0.0|\n",
      "|    0|10000085,0|          1|                0.0|\n",
      "|    0| 1000009,0|          1|                0.0|\n",
      "|    0|1000009,10|          1|                0.0|\n",
      "|    0|1000009,12|          1|                0.0|\n",
      "+-----+----------+-----------+-------------------+\n",
      "only showing top 20 rows\n",
      "\n"
     ]
    }
   ],
   "source": [
    "final_coeff_month = coeff_month\\\n",
    "                    .withColumn(\"cluster_coefficient\",cluster_coeff(col(\"count\"),col(\"num_friends\")))\\\n",
    "                    .fillna(0)\n",
    "\n",
    "final_coeff_month.orderBy('id').show()"
   ]
  },
  {
   "cell_type": "markdown",
   "metadata": {
    "colab_type": "text",
    "id": "BxGtm7jwDFqv"
   },
   "source": [
    "### Create cumulative joined dataset"
   ]
  },
  {
   "cell_type": "code",
   "execution_count": 0,
   "metadata": {
    "colab": {},
    "colab_type": "code",
    "id": "qwY5oe0KDFqv"
   },
   "outputs": [],
   "source": [
    "# Create cumulative friends\n",
    "windowval = (Window.partitionBy('user1').orderBy('month_user1')\n",
    "             .rangeBetween(Window.unboundedPreceding, 0))\n",
    "direct_friends_cumulative = friends_with_count_month\\\n",
    "                            .withColumn('explode_friends', F.explode(F.col('friend_set')))\\\n",
    "                            .withColumn('cumulative_friends', F.collect_set('explode_friends').over(windowval))\\\n",
    "                            .select('user1','month_user1', 'cumulative_friends')\n",
    "direct_friends_cumulative.orderBy('user1', 'month_user1').show()"
   ]
  },
  {
   "cell_type": "code",
   "execution_count": 0,
   "metadata": {
    "colab": {},
    "colab_type": "code",
    "id": "PDZEc2gwDFqx"
   },
   "outputs": [],
   "source": [
    "# cumulative friends of friends\n",
    "windowval = (Window.partitionBy('user1').orderBy('month_user1')\n",
    "             .rangeBetween(Window.unboundedPreceding, 0))\n",
    "FoF_cumulative = friends_with_count_month\\\n",
    "                            .withColumn('explode_friends', F.explode(F.col('friend_of_friend_adj')))\\\n",
    "                            .withColumn('cumulative_FoF', F.collect_set('explode_friends').over(windowval))\\\n",
    "                            .select('user1','month_user1', 'cumulative_FoF')\n",
    "FoF_cumulative.orderBy('user1', 'month_user1').show()"
   ]
  },
  {
   "cell_type": "code",
   "execution_count": 0,
   "metadata": {
    "colab": {},
    "colab_type": "code",
    "id": "k3x33CbXDFqy"
   },
   "outputs": [],
   "source": [
    "# join to months 0-12\n",
    "from pyspark.sql.types import *\n",
    "month_num = [0,1,2,3,4,5,6,7,8,9,10,11,12]\n",
    "months = spark.createDataFrame(month_num, IntegerType()).select(col('value').alias('month_num'))\n",
    "distinct_users = all_transactions.select('user1').distinct()\n",
    "months_users = months.crossJoin(distinct_users)\n",
    "months_users.orderBy('user1', 'month_num').show()\n",
    "months_users = months_users.select(col('user1').alias('id'), col('month_num'))\n",
    "direct_friends_cumulative = direct_friends_cumulative.cache()\n",
    "months_users = months_users.cache()"
   ]
  },
  {
   "cell_type": "code",
   "execution_count": 0,
   "metadata": {
    "colab": {},
    "colab_type": "code",
    "id": "qE_tYuRvDFq1"
   },
   "outputs": [],
   "source": [
    "# get first 12 months of users\n",
    "direct_friends_cumulative.createOrReplaceTempView('direct_friends_cumulative')\n",
    "months_users.createOrReplaceTempView('months_users')"
   ]
  },
  {
   "cell_type": "code",
   "execution_count": 0,
   "metadata": {
    "colab": {},
    "colab_type": "code",
    "id": "wKDVpDwUDFq2"
   },
   "outputs": [],
   "source": [
    "direct_friends_cumulative = direct_friends_cumulative.distinct().repartition('month_user1', 'user1')\n",
    "months_users = months_users.repartition('month_num', 'id')\n",
    "cumulative_direct_f_month = months_users.join(direct_friends_cumulative, (months_users.month_num ==  direct_friends_cumulative.month_user1) & (months_users.id == direct_friends_cumulative.user1), 'left')\\\n",
    "                            .select('id', 'month_num', 'cumulative_friends')\n",
    "cumulative_direct_f_month.orderBy('id', 'month_num').show()\n",
    "# fill na values\n",
    "partitionWindow = Window.partitionBy('id').orderBy('month_num')\n",
    "cumulative_direct_f_month2 = cumulative_direct_f_month.withColumn(\"cumulative_friends\", last(\"cumulative_friends\", True).over(partitionWindow))\n",
    "cumulative_direct_f_month2.orderBy('id', 'month_num').show()\n",
    "FoF_cumulative = FoF_cumulative.distinct().repartition('month_user1')\n",
    "\n",
    "# get first 12 months of users\n",
    "FoF_cumulative.createOrReplaceTempView('FoF_cumulative')\n",
    "months_users.createOrReplaceTempView('months_users')\n",
    "# cumulative_FoF_month = spark.sql(\"\"\"\n",
    "# SELECT f2.user1, f1.month_num, f2.cumulative_FoF\n",
    "# FROM months_users f1\n",
    "# LEFT JOIN FoF_cumulative f2 ON f1.month_num=f2.month_user1\n",
    "# \"\"\")"
   ]
  },
  {
   "cell_type": "code",
   "execution_count": 0,
   "metadata": {
    "colab": {},
    "colab_type": "code",
    "id": "x_JVQUrbDFq3"
   },
   "outputs": [],
   "source": [
    "cumulative_FoF_month = months_users\\\n",
    "                      .join(FoF_cumulative,\n",
    "                            (months_users.month_num ==  FoF_cumulative.month_user1) & (months_users.id == FoF_cumulative.user1),\n",
    "                            'left')\\\n",
    "                      .select('id', 'month_num', 'cumulative_FoF')\n",
    "\n",
    "cumulative_FoF_month.orderBy('id', 'month_num').show()\n",
    "\n"
   ]
  },
  {
   "cell_type": "code",
   "execution_count": 0,
   "metadata": {
    "colab": {},
    "colab_type": "code",
    "id": "uvzJVF-ZDFq3"
   },
   "outputs": [],
   "source": [
    "# fill na values\n",
    "partitionWindow = Window.partitionBy('id').orderBy('month_num')\n",
    "cumulative_FoF_month2 = cumulative_FoF_month.withColumn(\"cumulative_FoF\", last(\"cumulative_FoF\", True).over(partitionWindow))\n",
    "cumulative_FoF_month2.orderBy('id', 'month_num').show()\n",
    "cumulative_joined = cumulative_direct_f_month2.join(cumulative_FoF_month2, \n",
    "                                                   (cumulative_direct_f_month2.id == cumulative_FoF_month2.user1) & (cumulative_direct_f_month2.month_num == cumulative_FoF_month2.month_num))\\\n",
    "                    .select('*',size('cumulative_friends').alias('num_friends'),\n",
    "                           size('cumulative_FoF').alias('num_FoF'))"
   ]
  },
  {
   "cell_type": "code",
   "execution_count": 0,
   "metadata": {
    "colab": {},
    "colab_type": "code",
    "id": "1SWMI7mGDFq4"
   },
   "outputs": [],
   "source": [
    "#cumulative_joined.repartition(1).write.mode(\"overwrite\").parquet(\"cumulative_joined.parquet\")"
   ]
  },
  {
   "cell_type": "markdown",
   "metadata": {
    "colab_type": "text",
    "id": "YbBzrV5vDFq5"
   },
   "source": [
    "### Cumulative Clustering Coefficient"
   ]
  },
  {
   "cell_type": "code",
   "execution_count": 0,
   "metadata": {
    "colab": {},
    "colab_type": "code",
    "id": "RyyCzDGeDFq5"
   },
   "outputs": [],
   "source": [
    "cumulative_joined = sql_context.read.parquet('cumulative_joined.parquet')"
   ]
  },
  {
   "cell_type": "code",
   "execution_count": 0,
   "metadata": {
    "colab": {},
    "colab_type": "code",
    "id": "-0uPLy5NDFq6"
   },
   "outputs": [],
   "source": [
    "@udf(returnType=FloatType())\n",
    "def cluster_coeff(count,num_friends):\n",
    "    if(num_friends>1):\n",
    "        cluster_coefficient = (2*count)/(num_friends*(num_friends-1))\n",
    "    else:\n",
    "        cluster_coefficient = None\n",
    "    return cluster_coefficient"
   ]
  },
  {
   "cell_type": "code",
   "execution_count": 0,
   "metadata": {
    "colab": {},
    "colab_type": "code",
    "id": "w3QbbEpRDFq7"
   },
   "outputs": [],
   "source": [
    "users_all_months.createOrReplaceTempView('edges_w_month')\n",
    "# union to get all user transactions regardless of user1 to user2 or user2 to user1\n",
    "all_user_transactions = spark.sql(\"\"\"\n",
    "  SELECT t1.user1, t1.user2, t1.month_user1\n",
    "    FROM edges_w_month t1\n",
    "    UNION ALL\n",
    "  SELECT t2.user2 as user1, t2.user1 as user2, t2.month_user2\n",
    "  FROM edges_w_month t2\n",
    "  \"\"\")"
   ]
  },
  {
   "cell_type": "code",
   "execution_count": 0,
   "metadata": {
    "colab": {},
    "colab_type": "code",
    "id": "wKJZNiX0DFq8"
   },
   "outputs": [],
   "source": [
    "def cumulative_coefficient(month:int):\n",
    "    user_and_month = all_user_transactions.select(concat_ws(',', col('user1'),col('month_user1')).alias('id'), col('month_user1'))\\\n",
    "                            .where(col('month_user1') <= month).distinct()\n",
    "    edges_w_month = users_all_months.select(concat_ws(',', col('user1'),col('month_user1')).alias('src'),\n",
    "                                  concat_ws(',', col('user2'), col('month_user2')).alias('dst'),\n",
    "                                       col('month_user1')).where(col('month_user1') <= month)\n",
    "    graph = GraphFrame(user_and_month, edges_w_month)\n",
    "    triangles = graph.triangleCount()\n",
    "    friends_month = cumulative_joined.select(concat_ws(',', col('user1'), 'month_num').alias('id'), col('num_friends'), col('month_num'))\n",
    "    friends_month.createOrReplaceTempView('friends_month')\n",
    "    triangles.createOrReplaceTempView('triangles')\n",
    "    coeff_month = spark.sql(\"\"\"\n",
    "    select t.*, fm.num_friends, fm.month_num\n",
    "    from triangles t join\n",
    "    friends_month fm\n",
    "    on t.id = fm.id\n",
    "    \"\"\")\n",
    "    final_coeff_month = coeff_month.withColumn(\"cluster_coefficient\",cluster_coeff(col(\"count\"),col(\"num_friends\")))\n",
    "    return final_coeff_month"
   ]
  },
  {
   "cell_type": "code",
   "execution_count": 0,
   "metadata": {
    "colab": {},
    "colab_type": "code",
    "id": "dzkRtYG1DFq9"
   },
   "outputs": [],
   "source": [
    "final_coefficients = cumulative_coefficient(0)\n",
    "for month in range(1,13):\n",
    "    month_coefficients = cumulative_coefficient(month)\n",
    "    \n",
    "    month_coefficients.createOrReplaceTempView('month_coefficients')\n",
    "    final_coefficients.createOrReplaceTempView('final_coefficients')\n",
    "    \n",
    "    final_coefficients = spark.sql(\"\"\"\n",
    "    SELECT *\n",
    "    from final_coefficients f \n",
    "    UNION\n",
    "    SELECT * FROM month_coefficients m\n",
    "    \"\"\")\n",
    "    "
   ]
  },
  {
   "cell_type": "code",
   "execution_count": 0,
   "metadata": {
    "colab": {},
    "colab_type": "code",
    "id": "tZxerB9NDFq-"
   },
   "outputs": [],
   "source": [
    "#final_coefficients.repartition(1).write.mode(\"overwrite\").parquet(\"clustering_coeff.parquet\")\n",
    "final_coefficients = spark.read.parquet(\"clustering_coeff.parquet\")"
   ]
  },
  {
   "cell_type": "code",
   "execution_count": 0,
   "metadata": {
    "colab": {},
    "colab_type": "code",
    "id": "FC5fpl1BDFrA",
    "outputId": "052039ab-162a-4236-9ea1-be977db76d76"
   },
   "outputs": [
    {
     "name": "stdout",
     "output_type": "stream",
     "text": [
      "+-----+----------+-----------+-----------+---------+-------------------+\n",
      "|count|        id|month_user1|num_friends|month_num|cluster_coefficient|\n",
      "+-----+----------+-----------+-----------+---------+-------------------+\n",
      "|    0| 1028723,0|          0|          1|        0|                0.0|\n",
      "|    0|13035623,0|          0|          1|        0|                0.0|\n",
      "|    0| 1320739,0|          0|          1|        0|                0.0|\n",
      "|    0|13306080,0|          0|          1|        0|                0.0|\n",
      "|    0| 1491934,0|          0|          1|        0|                0.0|\n",
      "|    0|  150870,0|          0|          1|        0|                0.0|\n",
      "|    0| 1520490,0|          0|          1|        0|                0.0|\n",
      "|    0| 1587599,0|          0|          1|        0|                0.0|\n",
      "|    0| 1880927,0|          0|          1|        0|                0.0|\n",
      "|    0| 1956228,0|          0|          1|        0|                0.0|\n",
      "+-----+----------+-----------+-----------+---------+-------------------+\n",
      "only showing top 10 rows\n",
      "\n"
     ]
    }
   ],
   "source": [
    "final_coefficients = final_coefficients.fillna(0)\n",
    "final_coefficients.show(10)"
   ]
  },
  {
   "cell_type": "markdown",
   "metadata": {
    "colab_type": "text",
    "id": "wJBXJKYEDFrB"
   },
   "source": [
    "## Page rank of each user (page rank is a global social network metric)"
   ]
  },
  {
   "cell_type": "code",
   "execution_count": 0,
   "metadata": {
    "colab": {},
    "colab_type": "code",
    "id": "jN3sbS0ODFrC"
   },
   "outputs": [],
   "source": [
    "venmo_df.select(\"user1\", \"user2\", \"datetime\").createOrReplaceTempView('venmotable')"
   ]
  },
  {
   "cell_type": "code",
   "execution_count": 0,
   "metadata": {
    "colab": {},
    "colab_type": "code",
    "id": "VjPw5eB4DFrD"
   },
   "outputs": [],
   "source": [
    "pre_stack_df = venmo_df.select('user1', 'user2', 'datetime')\n",
    "pre_stack_df.createOrReplaceTempView('user_table1')\n",
    "\n",
    "# union to get all user transactions regardless of user1 to user2 or user2 to user1\n",
    "all_user_transactions = spark.sql(\"\"\"\n",
    "  SELECT t1.user1, t1.user2, t1.datetime\n",
    "    FROM user_table1 t1\n",
    "    UNION ALL\n",
    "  SELECT t2.user2 as user1, t2.user1 as user2, t2.datetime\n",
    "  FROM user_table1 t2\n",
    "  \"\"\")"
   ]
  },
  {
   "cell_type": "code",
   "execution_count": 0,
   "metadata": {
    "colab": {},
    "colab_type": "code",
    "id": "VcjUVWChDFrD"
   },
   "outputs": [],
   "source": [
    "overCategory = Window.partitionBy(\"user1\")\n",
    "\n",
    "monthly_df = all_user_transactions\\\n",
    "            .withColumn('zero_mark', F.min('datetime').over(overCategory))\\\n",
    "            .withColumn('days_to_zero', F.datediff('datetime','zero_mark'))\\\n",
    "            .withColumn('month', F.ceil(F.column('days_to_zero')/30))\\\n",
    "            .drop('days_to_zero', 'user2', 'zero_mark')\\\n",
    "            .withColumn('id', expr(\"concat(user1, '_', month)\"))\\\n",
    "            .cache()"
   ]
  },
  {
   "cell_type": "code",
   "execution_count": 0,
   "metadata": {
    "colab": {},
    "colab_type": "code",
    "id": "S6ORv5AjDFrE"
   },
   "outputs": [],
   "source": [
    "vertices2 = monthly_df.groupBy(\"id\", \"user1\", \"month\").count().drop(\"count\").cache()"
   ]
  },
  {
   "cell_type": "code",
   "execution_count": 0,
   "metadata": {
    "colab": {},
    "colab_type": "code",
    "id": "CBjtB45nDFrF"
   },
   "outputs": [],
   "source": [
    "monthly_df.createOrReplaceTempView('usermonth')"
   ]
  },
  {
   "cell_type": "code",
   "execution_count": 0,
   "metadata": {
    "colab": {},
    "colab_type": "code",
    "id": "RxUJxukmDFrG"
   },
   "outputs": [],
   "source": [
    "venmo_usermonth = spark.sql(\"\"\"\n",
    "select v.user1, v.datetime, um.id as id1, v.user2, um2.id as id2\n",
    "from venmotable v\n",
    "left join usermonth um on v.user1 = um.user1 and v.datetime = um.datetime\n",
    "left join usermonth um2 on v.user2 = um2.user1 and v.datetime = um2.datetime\n",
    "\"\"\").cache()"
   ]
  },
  {
   "cell_type": "code",
   "execution_count": 0,
   "metadata": {
    "colab": {},
    "colab_type": "code",
    "id": "hQf9XDJkDFrH"
   },
   "outputs": [],
   "source": [
    "edges2 = venmo_usermonth.select(F.col(\"id1\").alias(\"src\"),\n",
    "                                F.col(\"id2\").alias(\"dst\")).cache()"
   ]
  },
  {
   "cell_type": "code",
   "execution_count": 0,
   "metadata": {
    "colab": {},
    "colab_type": "code",
    "id": "V1UKrYdkDFrK"
   },
   "outputs": [],
   "source": [
    "g2 = GraphFrame(vertices2, edges2).persist()"
   ]
  },
  {
   "cell_type": "code",
   "execution_count": 0,
   "metadata": {
    "colab": {},
    "colab_type": "code",
    "id": "nIISlAd1DFrK"
   },
   "outputs": [],
   "source": [
    "pr2 = g2.pageRank(resetProbability=0.15, maxIter = 20)"
   ]
  },
  {
   "cell_type": "code",
   "execution_count": 0,
   "metadata": {
    "colab": {},
    "colab_type": "code",
    "id": "WreqY5JoDFrL"
   },
   "outputs": [],
   "source": [
    "# Temporary to create Blank Data Frame\n",
    "users_vec2 = vertices2.select('user1').distinct().repartition('user1')\n",
    "months_vec2 = vertices2.select('month').distinct().repartition('month')\n",
    "\n",
    "blank_pagerank = users_vec2.crossJoin(months_vec2)\\\n",
    "                .cache()"
   ]
  },
  {
   "cell_type": "code",
   "execution_count": 0,
   "metadata": {
    "colab": {},
    "colab_type": "code",
    "id": "vY2LiPWSDFrM"
   },
   "outputs": [],
   "source": [
    "semi_pagerank = blank_pagerank.join(pr2.vertices, on=['user1', 'month'], how='left_outer').cache()"
   ]
  },
  {
   "cell_type": "code",
   "execution_count": 0,
   "metadata": {
    "colab": {},
    "colab_type": "code",
    "id": "zPTs4GFTDFrN"
   },
   "outputs": [],
   "source": [
    "monthly_pagerank = semi_pagerank.drop(\"id\").fillna(0)"
   ]
  },
  {
   "cell_type": "code",
   "execution_count": 0,
   "metadata": {
    "colab": {},
    "colab_type": "code",
    "id": "jNY6IgLgDFrO"
   },
   "outputs": [],
   "source": [
    "#monthly_pagerank.repartition(1).write.mode(\"overwrite\").parquet(\"monthlypagerank.parquet\")\n",
    "monthly_pagerank = spark.read.parquet(\"monthlypagerank.parquet\")"
   ]
  },
  {
   "cell_type": "code",
   "execution_count": 0,
   "metadata": {
    "colab": {},
    "colab_type": "code",
    "id": "cM3n8WMRDFrO",
    "outputId": "2c478b7e-ef6c-452a-ef8f-666e2a560bbb"
   },
   "outputs": [
    {
     "name": "stdout",
     "output_type": "stream",
     "text": [
      "+-----+-----+------------------+\n",
      "|user1|month|          pagerank|\n",
      "+-----+-----+------------------+\n",
      "|    2|   51|               0.0|\n",
      "|   11|   35|1.1555082964754304|\n",
      "|   12|   26|               0.0|\n",
      "|   13|   18|0.6245990791759084|\n",
      "|   13|   22|               0.0|\n",
      "|   16|   22|               0.0|\n",
      "|   18|    9|               0.0|\n",
      "|   24|   53|               0.0|\n",
      "|   42|   17|               0.0|\n",
      "|   52|   15|               0.0|\n",
      "+-----+-----+------------------+\n",
      "only showing top 10 rows\n",
      "\n"
     ]
    }
   ],
   "source": [
    "monthly_pagerank.show(10)"
   ]
  },
  {
   "cell_type": "markdown",
   "metadata": {
    "colab_type": "text",
    "id": "NYJrSur4DFrP"
   },
   "source": [
    "# Machine Learning to explore previously created features. Dependent variable Y , i.e. the total number of transactions at lifetime point 12. In other words, for every user, you need to count how many transactions s/he had committed during her/his twelve months."
   ]
  },
  {
   "cell_type": "code",
   "execution_count": 83,
   "metadata": {
    "colab": {},
    "colab_type": "code",
    "id": "dU0ORh5sDc9s"
   },
   "outputs": [],
   "source": [
    "venmo_df.createOrReplaceTempView(\"venmo_df\")\n",
    "\n",
    "venmo_full = spark.sql(\"\"\"\n",
    "          select user1 as user, transaction_type, datetime, description, is_business, story_id from venmo_df\n",
    "          union all\n",
    "          select user2 as user, transaction_type, datetime, description, is_business, story_id from venmo_df\n",
    "          \"\"\")"
   ]
  },
  {
   "cell_type": "code",
   "execution_count": 98,
   "metadata": {},
   "outputs": [],
   "source": [
    "window_user = Window.partitionBy(\"user\").orderBy('datetime')\n",
    "user_lifetime = venmo_full.withColumn('zero_mark', F.min('datetime').over(window_user))\\\n",
    "                          .withColumn('days_to_zero', F.datediff('datetime','zero_mark'))\\\n",
    "                          .withColumn('month', F.ceil(F.column('days_to_zero')/30))\\\n",
    "                          .drop('zero_mark', 'description', 'is_business', 'story_id', 'transaction_type')\\\n",
    "                          .orderBy('user','month','datetime')\\\n",
    "                          .filter('month <= 12')"
   ]
  },
  {
   "cell_type": "code",
   "execution_count": 86,
   "metadata": {
    "colab": {},
    "colab_type": "code",
    "id": "ViXOVxJgDc5c"
   },
   "outputs": [],
   "source": [
    "# Create total number of transactions during users' 12 months in Venmo\n",
    "Y = user_lifetime.groupBy('user').count()"
   ]
  },
  {
   "cell_type": "code",
   "execution_count": 87,
   "metadata": {
    "colab": {},
    "colab_type": "code",
    "id": "Ico3TeSMI9Na",
    "outputId": "4c018958-6c66-4e7b-daa6-c5bbe42c9a66"
   },
   "outputs": [
    {
     "name": "stdout",
     "output_type": "stream",
     "text": [
      "+----+-----+\n",
      "|user|count|\n",
      "+----+-----+\n",
      "|   2|    1|\n",
      "|   3|    9|\n",
      "|   4|    4|\n",
      "|   6|    2|\n",
      "|   8|    6|\n",
      "|   9|    5|\n",
      "|  10|   12|\n",
      "|  11|   13|\n",
      "|  12|    5|\n",
      "|  13|    5|\n",
      "|  16|    7|\n",
      "|  18|    1|\n",
      "|  19|    2|\n",
      "|  24|    2|\n",
      "|  28|    2|\n",
      "|  29|    2|\n",
      "|  31|    1|\n",
      "|  32|    1|\n",
      "|  34|    5|\n",
      "|  42|    5|\n",
      "+----+-----+\n",
      "only showing top 20 rows\n",
      "\n"
     ]
    }
   ],
   "source": [
    "Y.orderBy('user').show()"
   ]
  },
  {
   "cell_type": "markdown",
   "metadata": {
    "colab_type": "text",
    "id": "YrI4YJbKDFrP"
   },
   "source": [
    "## RFM (without M)\n",
    "\n",
    "Create the recency and frequency variables. In CRM, this predictive framework is known as RFM. Here, you don’t have monetary amounts, so we will focus on just RF. Recency refers to the last time a user was active, and frequency is how often a user uses Venmo in a month. You need to compute these metrics across a user’s lifetime in Venmo (from 0 up to 12). "
   ]
  },
  {
   "cell_type": "code",
   "execution_count": 99,
   "metadata": {
    "colab": {},
    "colab_type": "code",
    "id": "HYnklRPHI9Nc"
   },
   "outputs": [],
   "source": [
    "user_lifetime = user_lifetime.withColumn('txns', count('datetime').over(window_user))\\\n",
    "                             .orderBy('user','month')"
   ]
  },
  {
   "cell_type": "code",
   "execution_count": 100,
   "metadata": {
    "colab": {},
    "colab_type": "code",
    "id": "kAyA3d8pI9Nd"
   },
   "outputs": [],
   "source": [
    "temp = user_lifetime.groupBy('user','month').agg(max('datetime').alias('lastst')).orderBy('user','month')\n",
    "\n",
    "cond = [temp.user == user_lifetime.user, temp.lastst == user_lifetime.datetime]\n",
    "user_lifetime = temp.join(user_lifetime, cond, 'left_outer')\\\n",
    "                   .select(user_lifetime.user,user_lifetime.month,'days_to_zero','txns')\\\n",
    "                   .orderBy(user_lifetime.user,user_lifetime.month)"
   ]
  },
  {
   "cell_type": "code",
   "execution_count": 101,
   "metadata": {
    "colab": {},
    "colab_type": "code",
    "id": "6fgCx9iFI9Nf"
   },
   "outputs": [],
   "source": [
    "# create lifetime view for each user\n",
    "month = [0,1,2,3,4,5,6,7,8,9,10,11,12]\n",
    "user_months = Y.withColumn(\"lifetime\", F.array([F.lit(x) for x in month]))\\\n",
    "               .withColumn(\"lifetime\", F.explode(col(\"lifetime\")))\\\n",
    "               .withColumn('lifetime_days', 30*F.col('lifetime'))\\\n",
    "               .withColumnRenamed('count','Y').orderBy('user','lifetime')"
   ]
  },
  {
   "cell_type": "code",
   "execution_count": 102,
   "metadata": {
    "colab": {},
    "colab_type": "code",
    "id": "hlScEpVfI9Nf",
    "outputId": "52632b92-7b6a-4a58-d295-e87e64600b29"
   },
   "outputs": [
    {
     "name": "stdout",
     "output_type": "stream",
     "text": [
      "+----+---+--------+-------------+\n",
      "|user|  Y|lifetime|lifetime_days|\n",
      "+----+---+--------+-------------+\n",
      "|   2|  1|       0|            0|\n",
      "|   2|  1|       1|           30|\n",
      "|   2|  1|       2|           60|\n",
      "|   2|  1|       3|           90|\n",
      "|   2|  1|       4|          120|\n",
      "|   2|  1|       5|          150|\n",
      "|   2|  1|       6|          180|\n",
      "|   2|  1|       7|          210|\n",
      "|   2|  1|       8|          240|\n",
      "|   2|  1|       9|          270|\n",
      "|   2|  1|      10|          300|\n",
      "|   2|  1|      11|          330|\n",
      "|   2|  1|      12|          360|\n",
      "|   3|  9|       0|            0|\n",
      "|   3|  9|       1|           30|\n",
      "|   3|  9|       2|           60|\n",
      "|   3|  9|       3|           90|\n",
      "|   3|  9|       4|          120|\n",
      "|   3|  9|       5|          150|\n",
      "|   3|  9|       6|          180|\n",
      "+----+---+--------+-------------+\n",
      "only showing top 20 rows\n",
      "\n"
     ]
    }
   ],
   "source": [
    "user_months.show()"
   ]
  },
  {
   "cell_type": "code",
   "execution_count": 103,
   "metadata": {
    "colab": {},
    "colab_type": "code",
    "id": "Gp2mbTYvI9Ng"
   },
   "outputs": [],
   "source": [
    "cond = [user_months.user == user_lifetime.user, user_months.lifetime == user_lifetime.month]\n",
    "df_rf = user_months.join(user_lifetime, cond, 'left_outer')\\\n",
    "                   .select(user_months.user,user_months.lifetime,'lifetime_days','days_to_zero','txns','Y')\\\n",
    "                   .orderBy(user_months.user,user_months.lifetime)"
   ]
  },
  {
   "cell_type": "code",
   "execution_count": 104,
   "metadata": {
    "colab": {},
    "colab_type": "code",
    "id": "BRbp6q8rI9Nh"
   },
   "outputs": [],
   "source": [
    "df_rf.createOrReplaceTempView('df_rf')\n",
    "rf_full = spark.sql(\"\"\"\n",
    "                      SELECT user, lifetime, Y,\n",
    "                            (SUM(txns)\n",
    "                             OVER (partition by user \n",
    "                                   order by lifetime asc\n",
    "                                   range between unbounded preceding and current row))/lifetime_days as frequency,\n",
    "                            (lifetime_days - max(days_to_zero) OVER (partition by user order by lifetime asc)\n",
    "                             ) as recency\n",
    "                      FROM df_rf\n",
    "                      ORDER BY user, lifetime\n",
    "          \"\"\")"
   ]
  },
  {
   "cell_type": "code",
   "execution_count": 105,
   "metadata": {
    "colab": {},
    "colab_type": "code",
    "id": "it36Ud_6I9Ni"
   },
   "outputs": [],
   "source": [
    "# make frequency @t0 = 1;\n",
    "rf_full = rf_full.fillna(1)"
   ]
  },
  {
   "cell_type": "code",
   "execution_count": 106,
   "metadata": {
    "colab": {},
    "colab_type": "code",
    "id": "cr0HVc08I9Nk",
    "outputId": "6939d939-f6a9-47fe-d798-061637d3a6f2"
   },
   "outputs": [
    {
     "name": "stdout",
     "output_type": "stream",
     "text": [
      "+----+--------+---+--------------------+-------+\n",
      "|user|lifetime|  Y|           frequency|recency|\n",
      "+----+--------+---+--------------------+-------+\n",
      "|   2|       0|  1|                 1.0|      0|\n",
      "|   2|       1|  1| 0.03333333333333333|     30|\n",
      "|   2|       2|  1|0.016666666666666666|     60|\n",
      "|   2|       3|  1|0.011111111111111112|     90|\n",
      "|   2|       4|  1|0.008333333333333333|    120|\n",
      "|   2|       5|  1|0.006666666666666667|    150|\n",
      "|   2|       6|  1|0.005555555555555556|    180|\n",
      "|   2|       7|  1|0.004761904761904762|    210|\n",
      "|   2|       8|  1|0.004166666666666667|    240|\n",
      "|   2|       9|  1|0.003703703703703704|    270|\n",
      "|   2|      10|  1|0.003333333333333...|    300|\n",
      "|   2|      11|  1|0.003030303030303...|    330|\n",
      "|   2|      12|  1|0.002777777777777778|    360|\n",
      "|   3|       0|  9|                 1.0|      0|\n",
      "|   3|       1|  9|                 0.1|      4|\n",
      "|   3|       2|  9|                0.05|     34|\n",
      "|   3|       3|  9| 0.06666666666666667|      2|\n",
      "|   3|       4|  9| 0.11666666666666667|     16|\n",
      "|   3|       5|  9| 0.15333333333333332|     25|\n",
      "|   3|       6|  9| 0.12777777777777777|     55|\n",
      "+----+--------+---+--------------------+-------+\n",
      "only showing top 20 rows\n",
      "\n"
     ]
    }
   ],
   "source": [
    "rf_full.show()"
   ]
  },
  {
   "cell_type": "markdown",
   "metadata": {
    "colab_type": "text",
    "id": "xHCIStH4DFrQ"
   },
   "source": [
    "## Regress recency and frequency on Y. "
   ]
  },
  {
   "cell_type": "code",
   "execution_count": 0,
   "metadata": {
    "colab": {},
    "colab_type": "code",
    "id": "hxBOXpJGI9Nm"
   },
   "outputs": [],
   "source": [
    "def get_MSE_1(input_df):\n",
    "    Assembler = VectorAssembler(inputCols = ['frequency', 'recency'], \n",
    "                                outputCol ='features')\n",
    "    output = Assembler.transform(input_df)\n",
    "    finalData = output.select('features','Y')\n",
    "    trainData, testData = finalData.randomSplit([0.7, 0.3], seed=1)\n",
    "    lrModel = LinearRegression(labelCol ='Y', featuresCol='features')\n",
    "    lrEstimator = lrModel.fit(trainData)\n",
    "    testResults = lrEstimator.evaluate(testData)\n",
    "    rmse = testResults.rootMeanSquaredError\n",
    "    mse = rmse**2\n",
    "    return mse"
   ]
  },
  {
   "cell_type": "code",
   "execution_count": 0,
   "metadata": {
    "colab": {},
    "colab_type": "code",
    "id": "-dJyEpf7I9Nn"
   },
   "outputs": [],
   "source": [
    "input_t0 = rf_full.filter('lifetime=0')\n",
    "input_t1 = rf_full.filter('lifetime=1')\n",
    "input_t2 = rf_full.filter('lifetime=2')\n",
    "input_t3 = rf_full.filter('lifetime=3')\n",
    "input_t4 = rf_full.filter('lifetime=4')\n",
    "input_t5 = rf_full.filter('lifetime=5')\n",
    "input_t6 = rf_full.filter('lifetime=6')\n",
    "input_t7 = rf_full.filter('lifetime=7')\n",
    "input_t8 = rf_full.filter('lifetime=8')\n",
    "input_t9 = rf_full.filter('lifetime=9')\n",
    "input_t10 = rf_full.filter('lifetime=10')\n",
    "input_t11 = rf_full.filter('lifetime=11')\n",
    "input_t12 = rf_full.filter('lifetime=12')"
   ]
  },
  {
   "cell_type": "code",
   "execution_count": 0,
   "metadata": {
    "colab": {},
    "colab_type": "code",
    "id": "P_f9HZ_5I9Ns"
   },
   "outputs": [],
   "source": [
    "MSE_time0 = get_MSE_1(input_t0)\n",
    "MSE_time1 = get_MSE_1(input_t1)\n",
    "MSE_time2 = get_MSE_1(input_t2)\n",
    "MSE_time3 = get_MSE_1(input_t3)\n",
    "MSE_time4 = get_MSE_1(input_t4)\n",
    "MSE_time5 = get_MSE_1(input_t5)\n",
    "MSE_time6 = get_MSE_1(input_t6)\n",
    "MSE_time7 = get_MSE_1(input_t7)\n",
    "MSE_time8 = get_MSE_1(input_t8)\n",
    "MSE_time9 = get_MSE_1(input_t9)\n",
    "MSE_time10 = get_MSE_1(input_t10)\n",
    "MSE_time11 = get_MSE_1(input_t11)\n",
    "MSE_time12 = get_MSE_1(input_t12)"
   ]
  },
  {
   "cell_type": "code",
   "execution_count": 0,
   "metadata": {
    "colab": {},
    "colab_type": "code",
    "id": "i8IkWp1rI9Nt"
   },
   "outputs": [],
   "source": [
    "print(\"MSE @ t0 is\", MSE_time0)\n",
    "print(\"MSE @ t1 is\", MSE_time1)\n",
    "print(\"MSE @ t2 is\", MSE_time2)\n",
    "print(\"MSE @ t3 is\", MSE_time3)\n",
    "print(\"MSE @ t4 is\", MSE_time4)\n",
    "print(\"MSE @ t5 is\", MSE_time5)\n",
    "print(\"MSE @ t6 is\", MSE_time6)\n",
    "print(\"MSE @ t7 is\", MSE_time7)\n",
    "print(\"MSE @ t8 is\", MSE_time8)\n",
    "print(\"MSE @ t9 is\", MSE_time9)\n",
    "print(\"MSE @ t10 is\", MSE_time10)\n",
    "print(\"MSE @ t11 is\", MSE_time11)\n",
    "print(\"MSE @ t12 is\", MSE_time12)"
   ]
  },
  {
   "cell_type": "code",
   "execution_count": 0,
   "metadata": {
    "colab": {},
    "colab_type": "code",
    "id": "Gp0ppV0CI9Nu"
   },
   "outputs": [],
   "source": [
    "lifetime = list(range(13))\n",
    "MSE1 = [MSE_time0, MSE_time1, MSE_time2, MSE_time3, MSE_time4, MSE_time5, MSE_time6, \n",
    "            MSE_time7, MSE_time8, MSE_time9, MSE_time10, MSE_time11, MSE_time12]"
   ]
  },
  {
   "cell_type": "code",
   "execution_count": 0,
   "metadata": {
    "colab": {},
    "colab_type": "code",
    "id": "ieVZGOymI9Nv",
    "outputId": "97afe028-db81-458c-f2a9-1f2113f9cba9"
   },
   "outputs": [
    {
     "data": {
      "image/png": "[encoded data removed]",
      "text/plain": [
       "<Figure size 432x288 with 1 Axes>"
      ]
     },
     "metadata": {
      "needs_background": "light",
      "tags": []
     },
     "output_type": "display_data"
    }
   ],
   "source": [
    "plt.plot(lifetime, MSE1, linestyle='--', marker='o')\n",
    "plt.show()"
   ]
  },
  {
   "cell_type": "markdown",
   "metadata": {
    "colab_type": "text",
    "id": "CJGq2JhfDFrQ"
   },
   "source": [
    "## Regress recency, frequency AND spending behavior profile on Y. "
   ]
  },
  {
   "cell_type": "code",
   "execution_count": 107,
   "metadata": {
    "colab": {},
    "colab_type": "code",
    "id": "9TeI3rsiI9Nx"
   },
   "outputs": [],
   "source": [
    "spending = spark.read.parquet(\"big_venmo_perc.parquet\")"
   ]
  },
  {
   "cell_type": "code",
   "execution_count": 108,
   "metadata": {
    "colab": {},
    "colab_type": "code",
    "id": "shRU4h94I9Ny"
   },
   "outputs": [],
   "source": [
    "spending_wide = spending.repartition('user1', 'month')\\\n",
    "                        .groupBy('user1','month').pivot('category').sum('percent_cum_count')"
   ]
  },
  {
   "cell_type": "code",
   "execution_count": 109,
   "metadata": {
    "colab": {},
    "colab_type": "code",
    "id": "3SsragM9I9Nz"
   },
   "outputs": [],
   "source": [
    "cond = [rf_full.user == spending_wide.user1, rf_full.lifetime == spending_wide.month]\n",
    "rf_sp_full = rf_full.join(spending_wide, cond, 'inner')\\\n",
    "                   .drop('user1','month')\\\n",
    "                   .orderBy(rf_full.user,rf_full.lifetime)"
   ]
  },
  {
   "cell_type": "code",
   "execution_count": 111,
   "metadata": {
    "colab": {},
    "colab_type": "code",
    "id": "NTnTDR22I9N0"
   },
   "outputs": [],
   "source": [
    "rf_sp_full = rf_sp_full.withColumnRenamed('No category','NoCategory')\n",
    "#rf_sp_full.write.format(\"parquet\").mode(\"append\").save(\"rf_sp_full.parquet\")"
   ]
  },
  {
   "cell_type": "code",
   "execution_count": 0,
   "metadata": {
    "colab": {},
    "colab_type": "code",
    "id": "_gDLiCQvI9N1"
   },
   "outputs": [],
   "source": [
    "def get_MSE_2(input_df):\n",
    "    Assembler = VectorAssembler(inputCols = ['frequency', 'recency','Activity','Cash','Utility','Nocategory',\n",
    "                                             'Event','People','Travel','Food','Transportation','IllegalSarcasm'], \n",
    "                                outputCol ='features')\n",
    "    output = Assembler.transform(input_df)\n",
    "    finalData = output.select('features','Y')\n",
    "    trainData, testData = finalData.randomSplit([0.7, 0.3], seed=1)\n",
    "    lrModel = LinearRegression(labelCol ='Y', featuresCol='features')\n",
    "    lrEstimator = lrModel.fit(trainData)\n",
    "    testResults = lrEstimator.evaluate(testData)\n",
    "    rmse = testResults.rootMeanSquaredError\n",
    "    mse = rmse**2\n",
    "    return mse"
   ]
  },
  {
   "cell_type": "code",
   "execution_count": 0,
   "metadata": {
    "colab": {},
    "colab_type": "code",
    "id": "MnoFDJVbI9N2"
   },
   "outputs": [],
   "source": [
    "input_t0 = rf_sp_full.filter('lifetime=0')\n",
    "input_t1 = rf_sp_full.filter('lifetime=1')\n",
    "input_t2 = rf_sp_full.filter('lifetime=2')\n",
    "input_t3 = rf_sp_full.filter('lifetime=3')\n",
    "input_t4 = rf_sp_full.filter('lifetime=4')\n",
    "input_t5 = rf_sp_full.filter('lifetime=5')\n",
    "input_t6 = rf_sp_full.filter('lifetime=6')\n",
    "input_t7 = rf_sp_full.filter('lifetime=7')\n",
    "input_t8 = rf_sp_full.filter('lifetime=8')\n",
    "input_t9 = rf_sp_full.filter('lifetime=9')\n",
    "input_t10 = rf_sp_full.filter('lifetime=10')\n",
    "input_t11 = rf_sp_full.filter('lifetime=11')\n",
    "input_t12 = rf_sp_full.filter('lifetime=12')"
   ]
  },
  {
   "cell_type": "code",
   "execution_count": 0,
   "metadata": {
    "colab": {},
    "colab_type": "code",
    "id": "LkPF1j7II9N2"
   },
   "outputs": [],
   "source": [
    "MSE2_time0 = get_MSE_2(input_t0)\n",
    "MSE2_time1 = get_MSE_2(input_t1)\n",
    "MSE2_time2 = get_MSE_2(input_t2)\n",
    "MSE2_time3 = get_MSE_2(input_t3)\n",
    "MSE2_time4 = get_MSE_2(input_t4)\n",
    "MSE2_time5 = get_MSE_2(input_t5)\n",
    "MSE2_time6 = get_MSE_2(input_t6)\n",
    "MSE2_time7 = get_MSE_2(input_t7)\n",
    "MSE2_time8 = get_MSE_2(input_t8)\n",
    "MSE2_time9 = get_MSE_2(input_t9)\n",
    "MSE2_time10 = get_MSE_2(input_t10)\n",
    "MSE2_time11 = get_MSE_2(input_t11)\n",
    "MSE2_time12 = get_MSE_2(input_t12)"
   ]
  },
  {
   "cell_type": "code",
   "execution_count": 0,
   "metadata": {
    "colab": {},
    "colab_type": "code",
    "id": "_TGCVOG6I9N3",
    "outputId": "fca0b679-0c00-4a0d-c179-3bc987e75cc9"
   },
   "outputs": [
    {
     "name": "stdout",
     "output_type": "stream",
     "text": [
      "MSE @ t0 is 11.289736026643006\n",
      "MSE @ t1 is 9.006524569394738\n",
      "MSE @ t2 is 9.469714043591884\n",
      "MSE @ t3 is 6.2907732963499425\n",
      "MSE @ t4 is 5.175139878867147\n",
      "MSE @ t5 is 4.520511494761269\n",
      "MSE @ t6 is 3.8845700145384403\n",
      "MSE @ t7 is 2.607995750483481\n",
      "MSE @ t8 is 2.1864600656867457\n",
      "MSE @ t9 is 1.4848176537421047\n",
      "MSE @ t10 is 1.0726926836351536\n",
      "MSE @ t11 is 0.8132600065263095\n",
      "MSE @ t12 is 0.7813836450280583\n"
     ]
    }
   ],
   "source": [
    "print(\"MSE @ t0 is\", MSE2_time0)\n",
    "print(\"MSE @ t1 is\", MSE2_time1)\n",
    "print(\"MSE @ t2 is\", MSE2_time2)\n",
    "print(\"MSE @ t3 is\", MSE2_time3)\n",
    "print(\"MSE @ t4 is\", MSE2_time4)\n",
    "print(\"MSE @ t5 is\", MSE2_time5)\n",
    "print(\"MSE @ t6 is\", MSE2_time6)\n",
    "print(\"MSE @ t7 is\", MSE2_time7)\n",
    "print(\"MSE @ t8 is\", MSE2_time8)\n",
    "print(\"MSE @ t9 is\", MSE2_time9)\n",
    "print(\"MSE @ t10 is\", MSE2_time10)\n",
    "print(\"MSE @ t11 is\", MSE2_time11)\n",
    "print(\"MSE @ t12 is\", MSE2_time12)"
   ]
  },
  {
   "cell_type": "code",
   "execution_count": 0,
   "metadata": {
    "colab": {},
    "colab_type": "code",
    "id": "DufmTcNMI9N4"
   },
   "outputs": [],
   "source": [
    "lifetime = list(range(13))\n",
    "MSE2 = [MSE2_time0, MSE2_time1, MSE2_time2, MSE2_time3, MSE2_time4, MSE2_time5, MSE2_time6, \n",
    "            MSE2_time7, MSE2_time8, MSE2_time9, MSE2_time10, MSE2_time11, MSE2_time12]"
   ]
  },
  {
   "cell_type": "code",
   "execution_count": 0,
   "metadata": {
    "colab": {},
    "colab_type": "code",
    "id": "UCmZNRyxI9N5",
    "outputId": "6e4e80e2-372e-4c3d-d94c-0d9c07f8e3fd"
   },
   "outputs": [
    {
     "data": {
      "image/png": "[encoded data removed]",
      "text/plain": [
       "<Figure size 432x288 with 1 Axes>"
      ]
     },
     "metadata": {
      "needs_background": "light",
      "tags": []
     },
     "output_type": "display_data"
    }
   ],
   "source": [
    "import matplotlib.pyplot as plt\n",
    "plt.plot(lifetime, MSE2, linestyle='--', marker='o')\n",
    "plt.show()"
   ]
  },
  {
   "cell_type": "markdown",
   "metadata": {
    "colab_type": "text",
    "id": "gES_s9qMDFrZ"
   },
   "source": [
    "## Regress social network metrics on Y. "
   ]
  },
  {
   "cell_type": "code",
   "execution_count": 84,
   "metadata": {},
   "outputs": [],
   "source": [
    "pr = spark.read.parquet(\"monthlypagerank.parquet\")"
   ]
  },
  {
   "cell_type": "code",
   "execution_count": 126,
   "metadata": {},
   "outputs": [],
   "source": [
    "clustering = spark.read.parquet(\"clustering_coeff.parquet\")"
   ]
  },
  {
   "cell_type": "code",
   "execution_count": 127,
   "metadata": {},
   "outputs": [],
   "source": [
    "clustering = clustering.select('*', F.split('id', ',').alias('id_fix'))"
   ]
  },
  {
   "cell_type": "code",
   "execution_count": 128,
   "metadata": {},
   "outputs": [],
   "source": [
    "clustering = clustering.withColumn('user', clustering[\"id_fix\"].getItem(0))"
   ]
  },
  {
   "cell_type": "code",
   "execution_count": 133,
   "metadata": {},
   "outputs": [],
   "source": [
    "clustering = clustering.select('user','month_num','cluster_coefficient')"
   ]
  },
  {
   "cell_type": "code",
   "execution_count": 95,
   "metadata": {},
   "outputs": [],
   "source": [
    "network = spark.read.parquet(\"cumulative_joined.parquet\")"
   ]
  },
  {
   "cell_type": "code",
   "execution_count": 98,
   "metadata": {},
   "outputs": [],
   "source": [
    "network = network.withColumn('fixed_num_FoF',when(network.num_FoF == -1,0)\\\n",
    "                 .otherwise(network.num_FoF))"
   ]
  },
  {
   "cell_type": "code",
   "execution_count": 101,
   "metadata": {},
   "outputs": [],
   "source": [
    "network = network.select('user1','month','num_friends','fixed_num_FOF')"
   ]
  },
  {
   "cell_type": "code",
   "execution_count": 115,
   "metadata": {},
   "outputs": [],
   "source": [
    "# join network and pr\n",
    "cond = [pr.user1 == network.user1, pr.month == network.month]\n",
    "net_pr = pr.join(network, cond, 'inner')\\\n",
    "           .drop(pr.user1)\\\n",
    "           .drop(pr.month)\\\n",
    "           .orderBy(network.user1,network.month)"
   ]
  },
  {
   "cell_type": "code",
   "execution_count": 135,
   "metadata": {},
   "outputs": [],
   "source": [
    "# join network+pr and clustering coeff\n",
    "cond = [net_pr.user1 == clustering.user, net_pr.month == clustering.month_num]\n",
    "social_all = net_pr.join(clustering, cond, 'inner')\\\n",
    "                   .drop(net_pr.user1)\\\n",
    "                   .drop(clustering.month_num)\\\n",
    "                   .orderBy(clustering.user,net_pr.month)"
   ]
  },
  {
   "cell_type": "code",
   "execution_count": 145,
   "metadata": {},
   "outputs": [],
   "source": [
    "cond = [social_all.user == user_months.user, social_all.month == user_months.lifetime]\n",
    "df_social = social_all.join(user_months, cond, 'inner')\\\n",
    "                      .drop(social_all.user)\\\n",
    "                      .drop(social_all.month)\\\n",
    "                      .drop('lifetime_days')\\\n",
    "                      .orderBy(user_months.user,user_months.lifetime)"
   ]
  },
  {
   "cell_type": "code",
   "execution_count": 165,
   "metadata": {},
   "outputs": [],
   "source": [
    "df_social = df_social.fillna(0)"
   ]
  },
  {
   "cell_type": "code",
   "execution_count": 151,
   "metadata": {},
   "outputs": [],
   "source": [
    "# df_social.coalesce(1).write.format(\"parquet\").mode(\"append\").save(\"df_social.parquet\")"
   ]
  },
  {
   "cell_type": "code",
   "execution_count": 112,
   "metadata": {
    "colab": {},
    "colab_type": "code",
    "id": "KOPVPi-rDFrQ"
   },
   "outputs": [],
   "source": [
    "df_social = spark.read.parquet(\"df_social.parquet\") \n",
    "\n",
    "df_social = df_social.fillna(0)"
   ]
  },
  {
   "cell_type": "code",
   "execution_count": 0,
   "metadata": {
    "colab": {},
    "colab_type": "code",
    "id": "kyPvmfWWDFrR"
   },
   "outputs": [],
   "source": [
    "def get_MSE_3(input_df):\n",
    "    Assembler = VectorAssembler(inputCols = ['pagerank','num_friends','fixed_num_FOF',\n",
    "                                             'cluster_coefficient'], \n",
    "                                outputCol ='features')\n",
    "    output = Assembler.transform(input_df)\n",
    "    finalData = output.select('features','Y')\n",
    "    trainData, testData = finalData.randomSplit([0.7, 0.3], seed=1)\n",
    "    lrModel = LinearRegression(labelCol ='Y', featuresCol='features')\n",
    "    lrEstimator = lrModel.fit(trainData)\n",
    "    testResults = lrEstimator.evaluate(testData)\n",
    "    rmse = testResults.rootMeanSquaredError\n",
    "    mse = rmse**2\n",
    "    return mse"
   ]
  },
  {
   "cell_type": "code",
   "execution_count": 0,
   "metadata": {
    "colab": {},
    "colab_type": "code",
    "id": "58YRLnrzDFrS"
   },
   "outputs": [],
   "source": [
    "input_t0 = df_social.filter('lifetime=0')\n",
    "input_t1 = df_social.filter('lifetime=1')\n",
    "input_t2 = df_social.filter('lifetime=2')\n",
    "input_t3 = df_social.filter('lifetime=3')\n",
    "input_t4 = df_social.filter('lifetime=4')\n",
    "input_t5 = df_social.filter('lifetime=5')\n",
    "input_t6 = df_social.filter('lifetime=6')\n",
    "input_t7 = df_social.filter('lifetime=7')\n",
    "input_t8 = df_social.filter('lifetime=8')\n",
    "input_t9 = df_social.filter('lifetime=9')\n",
    "input_t10 = df_social.filter('lifetime=10')\n",
    "input_t11 = df_social.filter('lifetime=11')\n",
    "input_t12 = df_social.filter('lifetime=12')"
   ]
  },
  {
   "cell_type": "code",
   "execution_count": 0,
   "metadata": {
    "colab": {},
    "colab_type": "code",
    "id": "L5FdCuzPDFrT"
   },
   "outputs": [],
   "source": [
    "MSE3_time0 = get_MSE_3(input_t0)\n",
    "MSE3_time1 = get_MSE_3(input_t1)\n",
    "MSE3_time2 = get_MSE_3(input_t2)\n",
    "MSE3_time3 = get_MSE_3(input_t3)\n",
    "MSE3_time4 = get_MSE_3(input_t4)\n",
    "MSE3_time5 = get_MSE_3(input_t5)\n",
    "MSE3_time6 = get_MSE_3(input_t6)\n",
    "MSE3_time7 = get_MSE_3(input_t7)\n",
    "MSE3_time8 = get_MSE_3(input_t8)\n",
    "MSE3_time9 = get_MSE_3(input_t9)\n",
    "MSE3_time10 = get_MSE_3(input_t10)\n",
    "MSE3_time11 = get_MSE_3(input_t11)\n",
    "MSE3_time12 = get_MSE_3(input_t12)"
   ]
  },
  {
   "cell_type": "code",
   "execution_count": 0,
   "metadata": {
    "colab": {},
    "colab_type": "code",
    "id": "7KkB3W-FDFrU",
    "outputId": "6148cbe7-0a8c-4bcf-d204-5aba9c711609"
   },
   "outputs": [
    {
     "name": "stdout",
     "output_type": "stream",
     "text": [
      "MSE @ t0 is 11.701516539340895\n",
      "MSE @ t1 is 20.206115141467464\n",
      "MSE @ t2 is 18.330550836085987\n",
      "MSE @ t3 is 32.54654906063732\n",
      "MSE @ t4 is 27.558231797251377\n",
      "MSE @ t5 is 14.870278761634086\n",
      "MSE @ t6 is 12.920858117284231\n",
      "MSE @ t7 is 11.819682388320887\n",
      "MSE @ t8 is 10.414562721451961\n",
      "MSE @ t9 is 9.692955732304517\n",
      "MSE @ t10 is 9.531680850689071\n",
      "MSE @ t11 is 8.250317846162268\n",
      "MSE @ t12 is 7.638408557391968\n"
     ]
    }
   ],
   "source": [
    "print(\"MSE @ t0 is\", MSE3_time0)\n",
    "print(\"MSE @ t1 is\", MSE3_time1)\n",
    "print(\"MSE @ t2 is\", MSE3_time2)\n",
    "print(\"MSE @ t3 is\", MSE3_time3)\n",
    "print(\"MSE @ t4 is\", MSE3_time4)\n",
    "print(\"MSE @ t5 is\", MSE3_time5)\n",
    "print(\"MSE @ t6 is\", MSE3_time6)\n",
    "print(\"MSE @ t7 is\", MSE3_time7)\n",
    "print(\"MSE @ t8 is\", MSE3_time8)\n",
    "print(\"MSE @ t9 is\", MSE3_time9)\n",
    "print(\"MSE @ t10 is\", MSE3_time10)\n",
    "print(\"MSE @ t11 is\", MSE3_time11)\n",
    "print(\"MSE @ t12 is\", MSE3_time12)"
   ]
  },
  {
   "cell_type": "code",
   "execution_count": 0,
   "metadata": {
    "colab": {},
    "colab_type": "code",
    "id": "ZLNkPkxdDFrW"
   },
   "outputs": [],
   "source": [
    "lifetime = list(range(13))\n",
    "MSE3 = [MSE3_time0, MSE3_time1, MSE3_time2, MSE3_time3, MSE3_time4, MSE3_time5, MSE3_time6, \n",
    "            MSE3_time7, MSE3_time8, MSE3_time9, MSE3_time10, MSE3_time11, MSE3_time12]"
   ]
  },
  {
   "cell_type": "code",
   "execution_count": 0,
   "metadata": {
    "colab": {},
    "colab_type": "code",
    "id": "HRPQmxi-DFrX",
    "outputId": "b34cdf0a-24fe-4213-8bc1-38266a340e34"
   },
   "outputs": [
    {
     "data": {
      "image/png": "[encoded data removed]",
      "text/plain": [
       "<Figure size 432x288 with 1 Axes>"
      ]
     },
     "metadata": {
      "needs_background": "light",
      "tags": []
     },
     "output_type": "display_data"
    }
   ],
   "source": [
    "plt.plot(lifetime, MSE3, linestyle='--', marker='o')\n",
    "plt.show()"
   ]
  },
  {
   "cell_type": "code",
   "execution_count": 193,
   "metadata": {},
   "outputs": [],
   "source": [
    "Assembler = VectorAssembler(inputCols = ['pagerank','num_friends','fixed_num_FOF',\n",
    "                                         'cluster_coefficient'], \n",
    "                            outputCol ='features')\n",
    "output = Assembler.transform(input_t12)\n",
    "finalData = output.select('features','Y')\n",
    "trainData, testData = finalData.randomSplit([0.7, 0.3], seed=1)\n",
    "lrModel = LinearRegression(labelCol ='Y', featuresCol='features')\n",
    "lrEstimator = lrModel.fit(trainData)\n",
    "testResults = lrEstimator.evaluate(testData)\n",
    "rmse = testResults.rootMeanSquaredError\n",
    "mse = rmse**2"
   ]
  },
  {
   "cell_type": "code",
   "execution_count": 194,
   "metadata": {},
   "outputs": [
    {
     "name": "stdout",
     "output_type": "stream",
     "text": [
      "Coefficients: [0.4999187195412696,1.2900766933361676,0.014595757470569043,7.8595257242997105]\n",
      "Intercept: 0.3952873820633144\n"
     ]
    }
   ],
   "source": [
    "print(\"Coefficients: %s\" % str(lrEstimator.coefficients))\n",
    "print(\"Intercept: %s\" % str(lrEstimator.intercept))"
   ]
  },
  {
   "cell_type": "code",
   "execution_count": 200,
   "metadata": {},
   "outputs": [],
   "source": [
    "features = ['pagerank','num_friends','fixed_num_FOF','cluster_coefficient']"
   ]
  },
  {
   "cell_type": "code",
   "execution_count": 201,
   "metadata": {},
   "outputs": [],
   "source": [
    "coeff = [0.4999187195412696,1.2900766933361676,0.014595757470569043,7.8595257242997105]"
   ]
  },
  {
   "cell_type": "code",
   "execution_count": 202,
   "metadata": {},
   "outputs": [],
   "source": [
    "df_dict = {'Features':features,'coeff':coeff}"
   ]
  },
  {
   "cell_type": "code",
   "execution_count": 203,
   "metadata": {},
   "outputs": [],
   "source": [
    "summary_tbl = pd.DataFrame(df_dict)"
   ]
  },
  {
   "cell_type": "code",
   "execution_count": 204,
   "metadata": {},
   "outputs": [
    {
     "data": {
      "text/html": [
       "<div>\n",
       "<style scoped>\n",
       "    .dataframe tbody tr th:only-of-type {\n",
       "        vertical-align: middle;\n",
       "    }\n",
       "\n",
       "    .dataframe tbody tr th {\n",
       "        vertical-align: top;\n",
       "    }\n",
       "\n",
       "    .dataframe thead th {\n",
       "        text-align: right;\n",
       "    }\n",
       "</style>\n",
       "<table border=\"1\" class=\"dataframe\">\n",
       "  <thead>\n",
       "    <tr style=\"text-align: right;\">\n",
       "      <th></th>\n",
       "      <th>Features</th>\n",
       "      <th>coeff</th>\n",
       "    </tr>\n",
       "  </thead>\n",
       "  <tbody>\n",
       "    <tr>\n",
       "      <th>0</th>\n",
       "      <td>pagerank</td>\n",
       "      <td>0.499919</td>\n",
       "    </tr>\n",
       "    <tr>\n",
       "      <th>1</th>\n",
       "      <td>num_friends</td>\n",
       "      <td>1.290077</td>\n",
       "    </tr>\n",
       "    <tr>\n",
       "      <th>2</th>\n",
       "      <td>fixed_num_FOF</td>\n",
       "      <td>0.014596</td>\n",
       "    </tr>\n",
       "    <tr>\n",
       "      <th>3</th>\n",
       "      <td>cluster_coefficient</td>\n",
       "      <td>7.859526</td>\n",
       "    </tr>\n",
       "  </tbody>\n",
       "</table>\n",
       "</div>"
      ],
      "text/plain": [
       "              Features     coeff\n",
       "0             pagerank  0.499919\n",
       "1          num_friends  1.290077\n",
       "2        fixed_num_FOF  0.014596\n",
       "3  cluster_coefficient  7.859526"
      ]
     },
     "execution_count": 204,
     "metadata": {},
     "output_type": "execute_result"
    }
   ],
   "source": [
    "summary_tbl"
   ]
  },
  {
   "cell_type": "code",
   "execution_count": null,
   "metadata": {},
   "outputs": [],
   "source": []
  },
  {
   "cell_type": "markdown",
   "metadata": {
    "colab_type": "text",
    "id": "p9zbMr3fDFrZ"
   },
   "source": [
    "# Question 12\n",
    "For each user’s lifetime point, regress her social network metrics and the spending behavior of her social network on Y. Plot the MSE for each lifetime point like above. Does the spending behavior of her social network add any predictive benefit compared to Q10?"
   ]
  },
  {
   "cell_type": "code",
   "execution_count": 0,
   "metadata": {
    "colab": {},
    "colab_type": "code",
    "id": "FzGga4jpI9OE"
   },
   "outputs": [],
   "source": [
    "rf_sp_full = spark.read.parquet(\"rf_sp_full.parquet\")"
   ]
  },
  {
   "cell_type": "code",
   "execution_count": 0,
   "metadata": {
    "colab": {},
    "colab_type": "code",
    "id": "kOTHJ2IYI9OF"
   },
   "outputs": [],
   "source": [
    "# join social, RF and spending behaviors\n",
    "cond = [rf_sp_full.user == df_social.user, rf_sp_full.lifetime == df_social.month]\n",
    "df_full = rf_sp_full.join(df_social, cond, 'inner')\\\n",
    "                    .drop(df_social.user)\\\n",
    "                    .drop(df_social.month)\\\n",
    "                    .orderBy(rf_sp_full.user,rf_sp_full.lifetime)"
   ]
  },
  {
   "cell_type": "code",
   "execution_count": 0,
   "metadata": {
    "colab": {},
    "colab_type": "code",
    "id": "xJ3atWz5I9OH"
   },
   "outputs": [],
   "source": [
    "def get_MSE_4(input_df):\n",
    "    Assembler = VectorAssembler(inputCols = ['frequency','recency','Activity','Cash','Event',\n",
    "                                             'Food','IllegalSarcasm','NoCategory','People','Tavel',\n",
    "                                             'Transportation','Travel','Utility','pagerank','num_friends',\n",
    "                                             'fixed_num_FOF','cluster_coefficient'], \n",
    "                                outputCol ='features')\n",
    "    output = Assembler.transform(input_df)\n",
    "    finalData = output.select('features','Y')\n",
    "    trainData, testData = finalData.randomSplit([0.7, 0.3], seed=1)\n",
    "    lrModel = LinearRegression(labelCol ='Y', featuresCol='features')\n",
    "    lrEstimator = lrModel.fit(trainData)\n",
    "    testResults = lrEstimator.evaluate(testData)\n",
    "    rmse = testResults.rootMeanSquaredError\n",
    "    mse = rmse**2\n",
    "    return mse"
   ]
  },
  {
   "cell_type": "code",
   "execution_count": 0,
   "metadata": {
    "colab": {},
    "colab_type": "code",
    "id": "CsXtf8-gI9OH"
   },
   "outputs": [],
   "source": [
    "input_t0 = df_full.filter('lifetime=0')\n",
    "input_t1 = df_full.filter('lifetime=1')\n",
    "input_t2 = df_full.filter('lifetime=2')\n",
    "input_t3 = df_full.filter('lifetime=3')\n",
    "input_t4 = df_full.filter('lifetime=4')\n",
    "input_t5 = df_full.filter('lifetime=5')\n",
    "input_t6 = df_full.filter('lifetime=6')\n",
    "input_t7 = df_full.filter('lifetime=7')\n",
    "input_t8 = df_full.filter('lifetime=8')\n",
    "input_t9 = df_full.filter('lifetime=9')\n",
    "input_t10 = df_full.filter('lifetime=10')\n",
    "input_t11 = df_full.filter('lifetime=11')\n",
    "input_t12 = df_full.filter('lifetime=12')"
   ]
  },
  {
   "cell_type": "code",
   "execution_count": 0,
   "metadata": {
    "colab": {},
    "colab_type": "code",
    "id": "ehy9P8IGI9OJ"
   },
   "outputs": [],
   "source": [
    "MSE4_time0 = get_MSE_4(input_t0)\n",
    "MSE4_time1 = get_MSE_4(input_t1)\n",
    "MSE4_time2 = get_MSE_4(input_t2)\n",
    "MSE4_time3 = get_MSE_4(input_t3)\n",
    "MSE4_time4 = get_MSE_4(input_t4)\n",
    "MSE4_time5 = get_MSE_4(input_t5)\n",
    "MSE4_time6 = get_MSE_4(input_t6)\n",
    "MSE4_time7 = get_MSE_4(input_t7)\n",
    "MSE4_time8 = get_MSE_4(input_t8)\n",
    "MSE4_time9 = get_MSE_4(input_t9)\n",
    "MSE4_time10 = get_MSE_4(input_t10)\n",
    "MSE4_time11 = get_MSE_4(input_t11)\n",
    "MSE4_time12 = get_MSE_4(input_t12)"
   ]
  },
  {
   "cell_type": "code",
   "execution_count": 0,
   "metadata": {
    "colab": {},
    "colab_type": "code",
    "id": "ZLPS_CmgI9OK",
    "outputId": "cb72ab03-0bee-4f10-dcdc-7f9f93839242"
   },
   "outputs": [
    {
     "name": "stdout",
     "output_type": "stream",
     "text": [
      "MSE @ t0 is 11.548008947523108\n",
      "MSE @ t1 is 18.580371042904886\n",
      "MSE @ t2 is 17.643388566188655\n",
      "MSE @ t3 is 16.420270800658425\n",
      "MSE @ t4 is 26.026324323641532\n",
      "MSE @ t5 is 15.41261516265958\n",
      "MSE @ t6 is 10.391185386714264\n",
      "MSE @ t7 is 8.348191511363801\n",
      "MSE @ t8 is 6.664149156898889\n",
      "MSE @ t9 is 4.917973666699491\n",
      "MSE @ t10 is 3.6027476075352385\n",
      "MSE @ t11 is 2.3167910144771255\n",
      "MSE @ t12 is 1.341706587596756\n"
     ]
    }
   ],
   "source": [
    "print(\"MSE @ t0 is\", MSE4_time0)\n",
    "print(\"MSE @ t1 is\", MSE4_time1)\n",
    "print(\"MSE @ t2 is\", MSE4_time2)\n",
    "print(\"MSE @ t3 is\", MSE4_time3)\n",
    "print(\"MSE @ t4 is\", MSE4_time4)\n",
    "print(\"MSE @ t5 is\", MSE4_time5)\n",
    "print(\"MSE @ t6 is\", MSE4_time6)\n",
    "print(\"MSE @ t7 is\", MSE4_time7)\n",
    "print(\"MSE @ t8 is\", MSE4_time8)\n",
    "print(\"MSE @ t9 is\", MSE4_time9)\n",
    "print(\"MSE @ t10 is\", MSE4_time10)\n",
    "print(\"MSE @ t11 is\", MSE4_time11)\n",
    "print(\"MSE @ t12 is\", MSE4_time12)"
   ]
  },
  {
   "cell_type": "code",
   "execution_count": 0,
   "metadata": {
    "colab": {},
    "colab_type": "code",
    "id": "k_kMQOemI9OM"
   },
   "outputs": [],
   "source": [
    "lifetime = list(range(13))\n",
    "MSE4 = [MSE4_time0, MSE4_time1, MSE4_time2, MSE4_time3, MSE4_time4, MSE4_time5, MSE4_time6, \n",
    "            MSE4_time7, MSE4_time8, MSE4_time9, MSE4_time10, MSE4_time11, MSE4_time12]"
   ]
  },
  {
   "cell_type": "code",
   "execution_count": 0,
   "metadata": {
    "colab": {},
    "colab_type": "code",
    "id": "XV6N34sDI9ON",
    "outputId": "cee6b095-b73f-47f9-8f9e-35d634080dc2"
   },
   "outputs": [
    {
     "data": {
      "image/png": "[encoded data removed]",
      "text/plain": [
       "<Figure size 432x288 with 1 Axes>"
      ]
     },
     "metadata": {
      "needs_background": "light",
      "tags": []
     },
     "output_type": "display_data"
    }
   ],
   "source": [
    "plt.plot(lifetime, MSE4, linestyle='--', marker='o')\n",
    "plt.show()"
   ]
  },
  {
   "cell_type": "code",
   "execution_count": 0,
   "metadata": {
    "colab": {},
    "colab_type": "code",
    "id": "KaAQoXasI9OO"
   },
   "outputs": [],
   "source": [
    "# df_full.coalesce(1).write.format(\"parquet\").mode(\"append\").save(\"df_full.parquet\")"
   ]
  },
  {
   "cell_type": "code",
   "execution_count": 186,
   "metadata": {},
   "outputs": [],
   "source": [
    "Assembler = VectorAssembler(inputCols = ['frequency','recency','Activity','Cash','Event',\n",
    "                                         'Food','IllegalSarcasm','NoCategory','People','Tavel',\n",
    "                                         'Transportation','Travel','Utility','pagerank','num_friends',\n",
    "                                         'fixed_num_FOF','cluster_coefficient'], \n",
    "                            outputCol ='features')\n",
    "output = Assembler.transform(input_t12)\n",
    "finalData = output.select('features','Y')\n",
    "trainData, testData = finalData.randomSplit([0.7, 0.3], seed=1)\n",
    "lrModel = LinearRegression(labelCol ='Y', featuresCol='features')\n",
    "lrEstimator = lrModel.fit(trainData)"
   ]
  },
  {
   "cell_type": "code",
   "execution_count": 189,
   "metadata": {},
   "outputs": [
    {
     "name": "stdout",
     "output_type": "stream",
     "text": [
      "Coefficients: [49.697236028356954,-0.002868134938305665,-0.381147925194434,-0.005100596323035913,-0.24657168390409845,0.09249596572117189,-0.18744501819037032,0.024631364656947735,-0.1429097637967972,0.010647729326336862,0.07919640557246171,-0.3096920570097837,0.34370834527757765,-0.0011620403376497576,0.3461376182616857,0.00118139057102735,3.048008555530384]\n",
      "Intercept: 2.021461612198929\n"
     ]
    }
   ],
   "source": [
    "print(\"Coefficients: %s\" % str(lrEstimator.coefficients))\n",
    "print(\"Intercept: %s\" % str(lrEstimator.intercept))"
   ]
  },
  {
   "cell_type": "code",
   "execution_count": 195,
   "metadata": {},
   "outputs": [],
   "source": [
    "features = ['frequency','recency','Activity','Cash','Event',\n",
    "                                         'Food','IllegalSarcasm','NoCategory','People','Tavel',\n",
    "                                         'Transportation','Travel','Utility','pagerank','num_friends',\n",
    "                                         'fixed_num_FOF','cluster_coefficient']"
   ]
  },
  {
   "cell_type": "code",
   "execution_count": 196,
   "metadata": {},
   "outputs": [],
   "source": [
    "coeff = [49.697236028356954,-0.002868134938305665,-0.381147925194434,\n",
    "         -0.005100596323035913,-0.24657168390409845,0.09249596572117189,\n",
    "         -0.18744501819037032,0.024631364656947735,-0.1429097637967972,0.010647729326336862,\n",
    "         0.07919640557246171,-0.3096920570097837,0.34370834527757765,-0.0011620403376497576,\n",
    "         0.3461376182616857,0.00118139057102735,3.048008555530384]"
   ]
  },
  {
   "cell_type": "code",
   "execution_count": 197,
   "metadata": {},
   "outputs": [],
   "source": [
    "df_dict = {'Features':features,'coeff':coeff}"
   ]
  },
  {
   "cell_type": "code",
   "execution_count": 198,
   "metadata": {},
   "outputs": [],
   "source": [
    "summary_tbl = pd.DataFrame(df_dict)"
   ]
  },
  {
   "cell_type": "code",
   "execution_count": 199,
   "metadata": {},
   "outputs": [
    {
     "data": {
      "text/html": [
       "<div>\n",
       "<style scoped>\n",
       "    .dataframe tbody tr th:only-of-type {\n",
       "        vertical-align: middle;\n",
       "    }\n",
       "\n",
       "    .dataframe tbody tr th {\n",
       "        vertical-align: top;\n",
       "    }\n",
       "\n",
       "    .dataframe thead th {\n",
       "        text-align: right;\n",
       "    }\n",
       "</style>\n",
       "<table border=\"1\" class=\"dataframe\">\n",
       "  <thead>\n",
       "    <tr style=\"text-align: right;\">\n",
       "      <th></th>\n",
       "      <th>Features</th>\n",
       "      <th>coeff</th>\n",
       "    </tr>\n",
       "  </thead>\n",
       "  <tbody>\n",
       "    <tr>\n",
       "      <th>0</th>\n",
       "      <td>frequency</td>\n",
       "      <td>49.697236</td>\n",
       "    </tr>\n",
       "    <tr>\n",
       "      <th>1</th>\n",
       "      <td>recency</td>\n",
       "      <td>-0.002868</td>\n",
       "    </tr>\n",
       "    <tr>\n",
       "      <th>2</th>\n",
       "      <td>Activity</td>\n",
       "      <td>-0.381148</td>\n",
       "    </tr>\n",
       "    <tr>\n",
       "      <th>3</th>\n",
       "      <td>Cash</td>\n",
       "      <td>-0.005101</td>\n",
       "    </tr>\n",
       "    <tr>\n",
       "      <th>4</th>\n",
       "      <td>Event</td>\n",
       "      <td>-0.246572</td>\n",
       "    </tr>\n",
       "    <tr>\n",
       "      <th>5</th>\n",
       "      <td>Food</td>\n",
       "      <td>0.092496</td>\n",
       "    </tr>\n",
       "    <tr>\n",
       "      <th>6</th>\n",
       "      <td>IllegalSarcasm</td>\n",
       "      <td>-0.187445</td>\n",
       "    </tr>\n",
       "    <tr>\n",
       "      <th>7</th>\n",
       "      <td>NoCategory</td>\n",
       "      <td>0.024631</td>\n",
       "    </tr>\n",
       "    <tr>\n",
       "      <th>8</th>\n",
       "      <td>People</td>\n",
       "      <td>-0.142910</td>\n",
       "    </tr>\n",
       "    <tr>\n",
       "      <th>9</th>\n",
       "      <td>Tavel</td>\n",
       "      <td>0.010648</td>\n",
       "    </tr>\n",
       "    <tr>\n",
       "      <th>10</th>\n",
       "      <td>Transportation</td>\n",
       "      <td>0.079196</td>\n",
       "    </tr>\n",
       "    <tr>\n",
       "      <th>11</th>\n",
       "      <td>Travel</td>\n",
       "      <td>-0.309692</td>\n",
       "    </tr>\n",
       "    <tr>\n",
       "      <th>12</th>\n",
       "      <td>Utility</td>\n",
       "      <td>0.343708</td>\n",
       "    </tr>\n",
       "    <tr>\n",
       "      <th>13</th>\n",
       "      <td>pagerank</td>\n",
       "      <td>-0.001162</td>\n",
       "    </tr>\n",
       "    <tr>\n",
       "      <th>14</th>\n",
       "      <td>num_friends</td>\n",
       "      <td>0.346138</td>\n",
       "    </tr>\n",
       "    <tr>\n",
       "      <th>15</th>\n",
       "      <td>fixed_num_FOF</td>\n",
       "      <td>0.001181</td>\n",
       "    </tr>\n",
       "    <tr>\n",
       "      <th>16</th>\n",
       "      <td>cluster_coefficient</td>\n",
       "      <td>3.048009</td>\n",
       "    </tr>\n",
       "  </tbody>\n",
       "</table>\n",
       "</div>"
      ],
      "text/plain": [
       "               Features      coeff\n",
       "0             frequency  49.697236\n",
       "1               recency  -0.002868\n",
       "2              Activity  -0.381148\n",
       "3                  Cash  -0.005101\n",
       "4                 Event  -0.246572\n",
       "5                  Food   0.092496\n",
       "6        IllegalSarcasm  -0.187445\n",
       "7            NoCategory   0.024631\n",
       "8                People  -0.142910\n",
       "9                 Tavel   0.010648\n",
       "10       Transportation   0.079196\n",
       "11               Travel  -0.309692\n",
       "12              Utility   0.343708\n",
       "13             pagerank  -0.001162\n",
       "14          num_friends   0.346138\n",
       "15        fixed_num_FOF   0.001181\n",
       "16  cluster_coefficient   3.048009"
      ]
     },
     "execution_count": 199,
     "metadata": {},
     "output_type": "execute_result"
    }
   ],
   "source": [
    "summary_tbl"
   ]
  }
 ],
 "metadata": {
  "colab": {
   "collapsed_sections": [
    "U-uVmvnGDFoF",
    "-P0i45P1DFoU",
    "5KqDvQtxDFo2",
    "J2UWPGIuDFpD",
    "h6-QRS33DFpF",
    "NMre5IF7DFpN",
    "eoZFUdimDFpn",
    "KjBICoPvDFpn",
    "skDO0ceBDFqG",
    "y-2C5dGrDFqX",
    "hETq0qrkDFqa",
    "BxGtm7jwDFqv",
    "YbBzrV5vDFq5",
    "wJBXJKYEDFrB",
    "NYJrSur4DFrP",
    "YrI4YJbKDFrP",
    "xHCIStH4DFrQ",
    "CJGq2JhfDFrQ",
    "gES_s9qMDFrZ",
    "p9zbMr3fDFrZ"
   ],
   "name": "Venmo_Homework - Notorious Big.ipynb",
   "provenance": [],
   "toc_visible": true
  },
  "hide_input": false,
  "kernelspec": {
   "display_name": "Python 3",
   "language": "python",
   "name": "python3"
  },
  "language_info": {
   "codemirror_mode": {
    "name": "ipython",
    "version": 3
   },
   "file_extension": ".py",
   "mimetype": "text/x-python",
   "name": "python",
   "nbconvert_exporter": "python",
   "pygments_lexer": "ipython3",
   "version": "3.7.7"
  },
  "latex_envs": {
   "LaTeX_envs_menu_present": true,
   "autoclose": false,
   "autocomplete": true,
   "bibliofile": "biblio.bib",
   "cite_by": "apalike",
   "current_citInitial": 1,
   "eqLabelWithNumbers": true,
   "eqNumInitial": 1,
   "hotkeys": {
    "equation": "Ctrl-E",
    "itemize": "Ctrl-I"
   },
   "labels_anchors": false,
   "latex_user_defs": false,
   "report_style_numbering": false,
   "user_envs_cfg": false
  },
  "toc": {
   "base_numbering": 1,
   "nav_menu": {},
   "number_sections": true,
   "sideBar": true,
   "skip_h1_title": false,
   "title_cell": "Table of Contents",
   "title_sidebar": "Contents",
   "toc_cell": false,
   "toc_position": {
    "height": "calc(100% - 180px)",
    "left": "10px",
    "top": "150px",
    "width": "358.391px"
   },
   "toc_section_display": true,
   "toc_window_display": true
  }
 },
 "nbformat": 4,
 "nbformat_minor": 1
}
